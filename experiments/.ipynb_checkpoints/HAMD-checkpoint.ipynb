{
 "cells": [
  {
   "cell_type": "code",
   "execution_count": 1,
   "id": "eBsGxd5F3ZhZ",
   "metadata": {
    "colab": {
     "base_uri": "https://localhost:8080/"
    },
    "id": "eBsGxd5F3ZhZ",
    "outputId": "1e95bf72-8bb0-44f1-b9ef-6a0534701607"
   },
   "outputs": [
    {
     "name": "stdout",
     "output_type": "stream",
     "text": [
      "Looking in links: https://pytorch-geometric.com/whl/torch-2.3.0+cu121.html\n",
      "Collecting torch-scatter\n",
      "  Downloading https://data.pyg.org/whl/torch-2.3.0%2Bcu121/torch_scatter-2.1.2%2Bpt23cu121-cp310-cp310-linux_x86_64.whl (10.9 MB)\n",
      "\u001b[2K     \u001b[90m━━━━━━━━━━━━━━━━━━━━━━━━━━━━━━━━━━━━━━━━\u001b[0m \u001b[32m10.9/10.9 MB\u001b[0m \u001b[31m18.7 MB/s\u001b[0m eta \u001b[36m0:00:00\u001b[0m\n",
      "\u001b[?25hInstalling collected packages: torch-scatter\n",
      "Successfully installed torch-scatter-2.1.2+pt23cu121\n",
      "Looking in links: https://pytorch-geometric.com/whl/torch-2.3.0+cu121.html\n",
      "Collecting torch-sparse\n",
      "  Downloading https://data.pyg.org/whl/torch-2.3.0%2Bcu121/torch_sparse-0.6.18%2Bpt23cu121-cp310-cp310-linux_x86_64.whl (5.1 MB)\n",
      "\u001b[2K     \u001b[90m━━━━━━━━━━━━━━━━━━━━━━━━━━━━━━━━━━━━━━━━\u001b[0m \u001b[32m5.1/5.1 MB\u001b[0m \u001b[31m25.3 MB/s\u001b[0m eta \u001b[36m0:00:00\u001b[0m\n",
      "\u001b[?25hRequirement already satisfied: scipy in /usr/local/lib/python3.10/dist-packages (from torch-sparse) (1.11.4)\n",
      "Requirement already satisfied: numpy<1.28.0,>=1.21.6 in /usr/local/lib/python3.10/dist-packages (from scipy->torch-sparse) (1.25.2)\n",
      "Installing collected packages: torch-sparse\n",
      "Successfully installed torch-sparse-0.6.18+pt23cu121\n",
      "Looking in links: https://pytorch-geometric.com/whl/torch-2.3.0+cu121.html\n",
      "Collecting torch-cluster\n",
      "  Downloading https://data.pyg.org/whl/torch-2.3.0%2Bcu121/torch_cluster-1.6.3%2Bpt23cu121-cp310-cp310-linux_x86_64.whl (3.4 MB)\n",
      "\u001b[2K     \u001b[90m━━━━━━━━━━━━━━━━━━━━━━━━━━━━━━━━━━━━━━━━\u001b[0m \u001b[32m3.4/3.4 MB\u001b[0m \u001b[31m38.7 MB/s\u001b[0m eta \u001b[36m0:00:00\u001b[0m\n",
      "\u001b[?25hRequirement already satisfied: scipy in /usr/local/lib/python3.10/dist-packages (from torch-cluster) (1.11.4)\n",
      "Requirement already satisfied: numpy<1.28.0,>=1.21.6 in /usr/local/lib/python3.10/dist-packages (from scipy->torch-cluster) (1.25.2)\n",
      "Installing collected packages: torch-cluster\n",
      "Successfully installed torch-cluster-1.6.3+pt23cu121\n",
      "Looking in links: https://pytorch-geometric.com/whl/torch-2.3.0+cu121.html\n",
      "Collecting torch-spline-conv\n",
      "  Downloading https://data.pyg.org/whl/torch-2.3.0%2Bcu121/torch_spline_conv-1.2.2%2Bpt23cu121-cp310-cp310-linux_x86_64.whl (947 kB)\n",
      "\u001b[2K     \u001b[90m━━━━━━━━━━━━━━━━━━━━━━━━━━━━━━━━━━━━━━━━\u001b[0m \u001b[32m947.1/947.1 kB\u001b[0m \u001b[31m16.9 MB/s\u001b[0m eta \u001b[36m0:00:00\u001b[0m\n",
      "\u001b[?25hInstalling collected packages: torch-spline-conv\n",
      "Successfully installed torch-spline-conv-1.2.2+pt23cu121\n",
      "Collecting torch-geometric\n",
      "  Downloading torch_geometric-2.5.3-py3-none-any.whl (1.1 MB)\n",
      "\u001b[2K     \u001b[90m━━━━━━━━━━━━━━━━━━━━━━━━━━━━━━━━━━━━━━━━\u001b[0m \u001b[32m1.1/1.1 MB\u001b[0m \u001b[31m10.1 MB/s\u001b[0m eta \u001b[36m0:00:00\u001b[0m\n",
      "\u001b[?25hRequirement already satisfied: tqdm in /usr/local/lib/python3.10/dist-packages (from torch-geometric) (4.66.4)\n",
      "Requirement already satisfied: numpy in /usr/local/lib/python3.10/dist-packages (from torch-geometric) (1.25.2)\n",
      "Requirement already satisfied: scipy in /usr/local/lib/python3.10/dist-packages (from torch-geometric) (1.11.4)\n",
      "Requirement already satisfied: fsspec in /usr/local/lib/python3.10/dist-packages (from torch-geometric) (2023.6.0)\n",
      "Requirement already satisfied: jinja2 in /usr/local/lib/python3.10/dist-packages (from torch-geometric) (3.1.4)\n",
      "Requirement already satisfied: aiohttp in /usr/local/lib/python3.10/dist-packages (from torch-geometric) (3.9.5)\n",
      "Requirement already satisfied: requests in /usr/local/lib/python3.10/dist-packages (from torch-geometric) (2.31.0)\n",
      "Requirement already satisfied: pyparsing in /usr/local/lib/python3.10/dist-packages (from torch-geometric) (3.1.2)\n",
      "Requirement already satisfied: scikit-learn in /usr/local/lib/python3.10/dist-packages (from torch-geometric) (1.2.2)\n",
      "Requirement already satisfied: psutil>=5.8.0 in /usr/local/lib/python3.10/dist-packages (from torch-geometric) (5.9.5)\n",
      "Requirement already satisfied: aiosignal>=1.1.2 in /usr/local/lib/python3.10/dist-packages (from aiohttp->torch-geometric) (1.3.1)\n",
      "Requirement already satisfied: attrs>=17.3.0 in /usr/local/lib/python3.10/dist-packages (from aiohttp->torch-geometric) (23.2.0)\n",
      "Requirement already satisfied: frozenlist>=1.1.1 in /usr/local/lib/python3.10/dist-packages (from aiohttp->torch-geometric) (1.4.1)\n",
      "Requirement already satisfied: multidict<7.0,>=4.5 in /usr/local/lib/python3.10/dist-packages (from aiohttp->torch-geometric) (6.0.5)\n",
      "Requirement already satisfied: yarl<2.0,>=1.0 in /usr/local/lib/python3.10/dist-packages (from aiohttp->torch-geometric) (1.9.4)\n",
      "Requirement already satisfied: async-timeout<5.0,>=4.0 in /usr/local/lib/python3.10/dist-packages (from aiohttp->torch-geometric) (4.0.3)\n",
      "Requirement already satisfied: MarkupSafe>=2.0 in /usr/local/lib/python3.10/dist-packages (from jinja2->torch-geometric) (2.1.5)\n",
      "Requirement already satisfied: charset-normalizer<4,>=2 in /usr/local/lib/python3.10/dist-packages (from requests->torch-geometric) (3.3.2)\n",
      "Requirement already satisfied: idna<4,>=2.5 in /usr/local/lib/python3.10/dist-packages (from requests->torch-geometric) (3.7)\n",
      "Requirement already satisfied: urllib3<3,>=1.21.1 in /usr/local/lib/python3.10/dist-packages (from requests->torch-geometric) (2.0.7)\n",
      "Requirement already satisfied: certifi>=2017.4.17 in /usr/local/lib/python3.10/dist-packages (from requests->torch-geometric) (2024.6.2)\n",
      "Requirement already satisfied: joblib>=1.1.1 in /usr/local/lib/python3.10/dist-packages (from scikit-learn->torch-geometric) (1.4.2)\n",
      "Requirement already satisfied: threadpoolctl>=2.0.0 in /usr/local/lib/python3.10/dist-packages (from scikit-learn->torch-geometric) (3.5.0)\n",
      "Installing collected packages: torch-geometric\n",
      "Successfully installed torch-geometric-2.5.3\n"
     ]
    }
   ],
   "source": [
    "\n",
    "#  install torch_geometric packages\n",
    "\n",
    "import torch\n",
    "\n",
    "def format_pytorch_version(version):\n",
    "  return version.split('+')[0]\n",
    "\n",
    "TORCH_version = torch.__version__\n",
    "TORCH = format_pytorch_version(TORCH_version)\n",
    "\n",
    "def format_cuda_version(version):\n",
    "  return 'cu' + version.replace('.', '')\n",
    "\n",
    "CUDA_version = torch.version.cuda\n",
    "CUDA = format_cuda_version(CUDA_version)\n",
    "\n",
    "!pip install torch-scatter     -f https://pytorch-geometric.com/whl/torch-{TORCH}+{CUDA}.html\n",
    "!pip install torch-sparse      -f https://pytorch-geometric.com/whl/torch-{TORCH}+{CUDA}.html\n",
    "!pip install torch-cluster     -f https://pytorch-geometric.com/whl/torch-{TORCH}+{CUDA}.html\n",
    "!pip install torch-spline-conv -f https://pytorch-geometric.com/whl/torch-{TORCH}+{CUDA}.html\n",
    "!pip install torch-geometric"
   ]
  },
  {
   "cell_type": "code",
   "execution_count": 3,
   "id": "IjqXkRcc4JmR",
   "metadata": {
    "colab": {
     "base_uri": "https://localhost:8080/"
    },
    "id": "IjqXkRcc4JmR",
    "outputId": "00ba5720-594e-43f1-9224-8ec89f43efa5"
   },
   "outputs": [
    {
     "name": "stdout",
     "output_type": "stream",
     "text": [
      "D:\\ai\\GNN\n"
     ]
    },
    {
     "name": "stderr",
     "output_type": "stream",
     "text": [
      "C:\\Users\\kkire\\anaconda3\\envs\\dl\\Lib\\site-packages\\IPython\\core\\magics\\osm.py:417: UserWarning: This is now an optional IPython functionality, setting dhist requires you to install the `pickleshare` library.\n",
      "  self.shell.db['dhist'] = compress_dhist(dhist)[-100:]\n"
     ]
    }
   ],
   "source": [
    "%cd .."
   ]
  },
  {
   "cell_type": "code",
   "execution_count": 4,
   "id": "f1530e19-18f4-490d-b0f6-4ed6867abeea",
   "metadata": {},
   "outputs": [
    {
     "name": "stdout",
     "output_type": "stream",
     "text": [
      " Volume in drive D is DATA\n",
      " Volume Serial Number is 4096-85EF\n",
      "\n",
      " Directory of D:\\ai\\GNN\n",
      "\n",
      "10-06-2024  12:18    <DIR>          .\n",
      "07-06-2024  23:38    <DIR>          ..\n",
      "23-06-2024  23:01    <DIR>          experiments\n",
      "08-06-2024  18:03                 0 main.py\n",
      "08-06-2024  18:11    <DIR>          models\n",
      "23-06-2024  21:55            11,344 reqirements.txt\n",
      "10-06-2024  22:26    <DIR>          utils\n",
      "               2 File(s)         11,344 bytes\n",
      "               5 Dir(s)  972,973,948,928 bytes free\n"
     ]
    }
   ],
   "source": [
    "%ls "
   ]
  },
  {
   "cell_type": "code",
   "execution_count": 5,
   "id": "fba20b02",
   "metadata": {
    "id": "fba20b02"
   },
   "outputs": [],
   "source": [
    "import torch\n",
    "from torch import nn\n",
    "import torch.nn.functional as F\n",
    "from torch_geometric.nn import global_mean_pool, Linear\n",
    "from torch_geometric.data import Data, Batch\n",
    "from torch_geometric.loader import DataLoader\n",
    "\n",
    "from models.model import GNN, GCN\n",
    "from models.layers import gLayer, gConv, ChebConv\n",
    "from utils.train import get_params, train,eval, run_experiment\n",
    "\n",
    "import time\n",
    "from scipy import stats\n",
    "import numpy as np\n",
    "import random\n",
    "import networkx as nx\n",
    "import pandas as pd\n",
    "from tqdm import tqdm\n",
    "import os"
   ]
  },
  {
   "cell_type": "code",
   "execution_count": 6,
   "id": "0ab727fc-a3e4-4fd4-81cc-2cbba932381c",
   "metadata": {
    "id": "0ab727fc-a3e4-4fd4-81cc-2cbba932381c"
   },
   "outputs": [],
   "source": [
    "clear = os.system('cls')"
   ]
  },
  {
   "cell_type": "code",
   "execution_count": 6,
   "id": "beab3742-0705-433a-b914-71b639795040",
   "metadata": {
    "id": "beab3742-0705-433a-b914-71b639795040"
   },
   "outputs": [],
   "source": [
    "def hamiltonian_cycle_dynamic_programming(G):\n",
    "    \"\"\"\n",
    "    Dynamic programming algorithm to decide if a Hamiltonian cycle exists in a graph.\n",
    "\n",
    "    Parameters:\n",
    "    - G: NetworkX graph\n",
    "\n",
    "    Returns:\n",
    "    - A Hamiltonian cycle as a list of nodes if it exists, otherwise None\n",
    "    \"\"\"\n",
    "    n = len(G.nodes())\n",
    "    nodes = list(G.nodes())\n",
    "    index = {nodes[i]: i for i in range(n)}\n",
    "\n",
    "    # dp[mask][i] will be True if there is a Hamiltonian path that visits all nodes in mask, ending at node i\n",
    "    dp = [[False] * n for _ in range(1 << n)]\n",
    "    dp[1][0] = True  # Starting at node 0\n",
    "\n",
    "    # Iterate over all subsets of nodes\n",
    "    for mask in range(1 << n):\n",
    "        for u in range(n):\n",
    "            if dp[mask][u]:  # If there's a Hamiltonian path for this subset ending at u\n",
    "                for v in range(n):\n",
    "                    if mask & (1 << v) == 0 and G.has_edge(nodes[u], nodes[v]):\n",
    "                        dp[mask | (1 << v)][v] = True\n",
    "\n",
    "    # Check if there's a Hamiltonian cycle\n",
    "    final_mask = (1 << n) - 1  # All nodes are visited\n",
    "    for u in range(1, n):\n",
    "        if dp[final_mask][u] and G.has_edge(nodes[u], nodes[0]):\n",
    "            # Reconstruct the path\n",
    "            path = [0]\n",
    "            mask = final_mask\n",
    "            last = u\n",
    "            while mask != 1:\n",
    "                for v in range(n):\n",
    "                    if mask & (1 << v) and dp[mask ^ (1 << last)][v] and G.has_edge(nodes[v], nodes[last]):\n",
    "                        path.append(last)\n",
    "                        mask ^= (1 << last)\n",
    "                        last = v\n",
    "                        break\n",
    "            path.append(0)\n",
    "            path.reverse()\n",
    "            return True\n",
    "    return False"
   ]
  },
  {
   "cell_type": "code",
   "execution_count": 7,
   "id": "ecf6353f-989c-4f09-838a-2dec9d11198b",
   "metadata": {
    "id": "ecf6353f-989c-4f09-838a-2dec9d11198b"
   },
   "outputs": [],
   "source": [
    "def create_hamiltonian_cycle_graph(n):\n",
    "    \"\"\"\n",
    "    Creates a graph with a known Hamiltonian cycle.\n",
    "    Parameters:\n",
    "    - n: number of nodes in the graph\n",
    "    Returns:\n",
    "    - G: NetworkX graph with a Hamiltonian cycle\n",
    "    \"\"\"\n",
    "    # Create a cycle graph with n nodes\n",
    "    G = nx.cycle_graph(n)\n",
    "\n",
    "    # Optionally, add some random edges to make the graph more complex\n",
    "    # Ensure the added edges do not disrupt the Hamiltonian cycle\n",
    "\n",
    "    num_additional_edges = random.randint(0, n * (n - 1) // 2 - n)  # Add additional edges\n",
    "\n",
    "    possible_edges = list(nx.complement(G).edges())\n",
    "    random.shuffle(possible_edges)\n",
    "    additional_edges = possible_edges[:num_additional_edges]\n",
    "    G.add_edges_from(additional_edges)\n",
    "\n",
    "    return G"
   ]
  },
  {
   "cell_type": "code",
   "execution_count": 8,
   "id": "9935b195-0b1b-4008-a6cf-157b9528983c",
   "metadata": {
    "id": "9935b195-0b1b-4008-a6cf-157b9528983c"
   },
   "outputs": [],
   "source": [
    "def create_random_graph_without_hamiltonian_cycle(n1, n2):\n",
    "    \"\"\"\n",
    "    Creates a bipartite graph with n1 and n2 nodes in each partition that does not have a Hamiltonian cycle.\n",
    "\n",
    "    Parameters:\n",
    "    - n1: number of nodes in the first partition\n",
    "    - n2: number of nodes in the second partition\n",
    "\n",
    "    Returns:\n",
    "    - G: NetworkX bipartite graph without a Hamiltonian cycle\n",
    "    \"\"\"\n",
    "    if abs(n1 - n2) != 1:\n",
    "        raise ValueError(\"For the bipartite graph to guarantee no Hamiltonian cycle, partitions should differ by 1.\")\n",
    "\n",
    "    G = nx.complete_bipartite_graph(n1, n2)\n",
    "    return G"
   ]
  },
  {
   "cell_type": "code",
   "execution_count": 9,
   "id": "91efbfde-f488-4673-8924-cb81c761c5a0",
   "metadata": {
    "id": "91efbfde-f488-4673-8924-cb81c761c5a0"
   },
   "outputs": [],
   "source": [
    "def create_graph_dataset(num_samples, edge_dim, batch_size, split=(0.7, 0.9)):\n",
    "\n",
    "    data_list = []\n",
    "\n",
    "    for i in tqdm(range(num_samples)):\n",
    "        n = random.randint(3, 15)\n",
    "        t = random.random()\n",
    "        t2 = random.random()\n",
    "\n",
    "        if t <0.5:\n",
    "            G = create_hamiltonian_cycle_graph(n)\n",
    "        else:\n",
    "            if t2 < 0.5:\n",
    "                if n%2 == 0:\n",
    "                    n -= 1\n",
    "                k1, k2 = (n+1)//2, (n-1)//2\n",
    "\n",
    "                G = create_random_graph_without_hamiltonian_cycle(k1, k2)\n",
    "            else:\n",
    "                p = (stats.norm.cdf(random.gauss(0, 1)))*(0.71)\n",
    "                G = nx.gnp_random_graph(n, p)\n",
    "\n",
    "        x = torch.zeros((n, 1))\n",
    "        edge_index = [[], []]\n",
    "        edge_attr = []\n",
    "\n",
    "        for u, v in G.edges:\n",
    "            x[u] += 1\n",
    "            x[v] += 1\n",
    "            edge_index[0].append(u)\n",
    "            edge_index[1].append(v)\n",
    "            edge_attr.append(torch.randn(edge_dim))\n",
    "\n",
    "        if t < 0.5 or (t>=0.5 and hamiltonian_cycle_dynamic_programming(G)):\n",
    "            y = 1\n",
    "        else:\n",
    "            y = 0\n",
    "\n",
    "        for i in range(n):\n",
    "            if x[i] == 0:\n",
    "                edge_index[0].append(i)\n",
    "                edge_index[1].append(i)\n",
    "                edge_attr.append(torch.Tensor(np.random.standard_cauchy(edge_dim)))\n",
    "\n",
    "        edge_index = torch.Tensor(edge_index).type(torch.LongTensor)\n",
    "        edge_attr = torch.stack(edge_attr)\n",
    "\n",
    "        d = Data(x=x, edge_index=edge_index, edge_attr=edge_attr, y=y)\n",
    "        data_list.append(d)\n",
    "\n",
    "    random.shuffle(data_list)\n",
    "\n",
    "    train_dataset, val_dataset, test_dataset = data_list[:int(num_samples*split[0])], data_list[int(num_samples*split[0]):int(num_samples*split[1])], data_list[int(num_samples*split[1]):]\n",
    "\n",
    "    train_loader, val_loader, test_loader = DataLoader(train_dataset, batch_size=batch_size, shuffle=True), DataLoader(val_dataset, batch_size=batch_size, shuffle=True), DataLoader(test_dataset, batch_size=batch_size, shuffle=True)\n",
    "\n",
    "    return train_loader, val_loader, test_loader"
   ]
  },
  {
   "cell_type": "code",
   "execution_count": 10,
   "id": "1ed346d3-434f-4529-8f60-6876c735129b",
   "metadata": {
    "id": "1ed346d3-434f-4529-8f60-6876c735129b"
   },
   "outputs": [],
   "source": [
    "def check_dataset_balance(dataloader, n_classes, batch_size):\n",
    "\n",
    "    classes = [0 for _ in range(len(n_classes))]\n",
    "\n",
    "    print(\"checking skewing of dataset\")\n",
    "\n",
    "    for d in tqdm(dataloader) :\n",
    "        for i in range(min(len(d), batch_size)):\n",
    "            classes[d[i].y] += 1\n",
    "\n",
    "    print(\"the dataset contains:\")\n",
    "\n",
    "    for j in range(len(classes)):\n",
    "        print(f\"{classes[j]} instances of {n_classes[j]}\")\n"
   ]
  },
  {
   "cell_type": "code",
   "execution_count": 17,
   "id": "1585de1c-f552-4f17-927e-b0e593524fd5",
   "metadata": {
    "colab": {
     "base_uri": "https://localhost:8080/"
    },
    "id": "1585de1c-f552-4f17-927e-b0e593524fd5",
    "outputId": "fd8d0f02-3afe-4796-c49e-54fdb29a7316",
    "scrolled": true
   },
   "outputs": [
    {
     "name": "stdout",
     "output_type": "stream",
     "text": [
      "creating dataset containing 10000 graphs and batch size of 16\n"
     ]
    },
    {
     "name": "stderr",
     "output_type": "stream",
     "text": [
      "100%|██████████| 10000/10000 [02:27<00:00, 67.98it/s]\n"
     ]
    }
   ],
   "source": [
    "batch_size=16\n",
    "edge_dim = 4\n",
    "num_samples = 10000\n",
    "\n",
    "class_desc = {0:\"hamiltonian cycle\", 1:\"no hamiltonian cycle\"}\n",
    "\n",
    "print(f\"creating dataset containing {num_samples} graphs and batch size of {batch_size}\")\n",
    "train_loader, val_loader, test_loader = create_graph_dataset(num_samples, edge_dim, batch_size)\n"
   ]
  },
  {
   "cell_type": "code",
   "execution_count": 18,
   "id": "d75830a3-4530-4847-a550-0f5467b1216c",
   "metadata": {
    "colab": {
     "base_uri": "https://localhost:8080/"
    },
    "id": "d75830a3-4530-4847-a550-0f5467b1216c",
    "outputId": "50ebe503-8226-45cb-e702-a58b6763bb7e"
   },
   "outputs": [
    {
     "name": "stdout",
     "output_type": "stream",
     "text": [
      "checking skewing of dataset\n"
     ]
    },
    {
     "name": "stderr",
     "output_type": "stream",
     "text": [
      "100%|██████████| 438/438 [00:01<00:00, 310.72it/s]"
     ]
    },
    {
     "name": "stdout",
     "output_type": "stream",
     "text": [
      "the dataset contains:\n",
      "2833 instances of hamiltonian cycle\n",
      "4167 instances of no hamiltonian cycle\n"
     ]
    },
    {
     "name": "stderr",
     "output_type": "stream",
     "text": [
      "\n"
     ]
    }
   ],
   "source": [
    "# print(\"checking the balance of classes in dataset\")\n",
    "check_dataset_balance(train_loader, class_desc, batch_size)"
   ]
  },
  {
   "cell_type": "code",
   "execution_count": null,
   "id": "95da6df6-75b2-468b-adfb-091242f68111",
   "metadata": {
    "id": "95da6df6-75b2-468b-adfb-091242f68111"
   },
   "outputs": [],
   "source": [
    "'''\n",
    "PROBLEMs\n",
    "\n",
    "GNNs by torch_geometric uses the scatter function which calculates the messages given by using the edge_index[1] but this causes problem as edge_index might not contain some edges does to isolated nodes\n",
    "added self loops to isolated edges and the edge attr of these self loops is sampled from standard_cauchy which is highly different from normal distribution\n",
    "\n",
    "Solved this by using self loop for isolated edges the edge attributes of these self loops shoukd be different from that of regular edge attributes \n",
    "\n",
    "regular edges - gaussian distribution\n",
    "self loop edges - standard cauchy distribution \n",
    "\n",
    "for directed edges:\n",
    "doing this worked but other methods include not including self loops instead altering the functionality of aggregate function such that nodes that recieve\n",
    "information will as usual receive messga ebut those which have no incomming edges will not recieve any messages but instead we can use a seperate mlp to process\n",
    "the embedding vector of these nodes and update their node embeddings that way {{ encouraged to think of a new method }}\n",
    "\n",
    "for this dataset even though it is an undirected dataset while creating the edge_index I didn't consider it, but it still produced good results\n",
    "\n",
    "creation of more diverse dataset is crucial as due to computational constraints it is harder for me to create a dataset having more than 20 nodes and also \n",
    "it is recommened to use a different method to cretae non hailtonian graphs\n",
    "\n",
    "'''"
   ]
  },
  {
   "cell_type": "code",
   "execution_count": 14,
   "id": "859f76f6-f6b7-4503-8731-1116bd1ad44a",
   "metadata": {
    "colab": {
     "base_uri": "https://localhost:8080/"
    },
    "id": "859f76f6-f6b7-4503-8731-1116bd1ad44a",
    "outputId": "3edda940-a7c6-4fb1-8d10-66eaf810f498"
   },
   "outputs": [
    {
     "name": "stdout",
     "output_type": "stream",
     "text": [
      "GNN(\n",
      "  (lin_in): Linear(in_features=1, out_features=50, bias=True)\n",
      "  (convs): ModuleList(\n",
      "    (0-3): 4 x gLayer(emb_dim=50, aggr=add)\n",
      "  )\n",
      "  (lin_pred): Linear(in_features=50, out_features=2, bias=True)\n",
      ")\n"
     ]
    }
   ],
   "source": [
    "sanity_model = GNN(4, 50, 4, 1, 2)\n",
    "print(sanity_model)"
   ]
  },
  {
   "cell_type": "code",
   "execution_count": 15,
   "id": "5b47458a-aed8-4c7e-b53c-7adfa3d468e0",
   "metadata": {
    "id": "5b47458a-aed8-4c7e-b53c-7adfa3d468e0"
   },
   "outputs": [],
   "source": [
    "ll = nn.CrossEntropyLoss()"
   ]
  },
  {
   "cell_type": "code",
   "execution_count": 21,
   "id": "9BpX1T6jXZlN",
   "metadata": {
    "colab": {
     "base_uri": "https://localhost:8080/"
    },
    "id": "9BpX1T6jXZlN",
    "outputId": "40c090c9-8bcc-42ae-a662-7ea2d4bfc2ee"
   },
   "outputs": [
    {
     "name": "stdout",
     "output_type": "stream",
     "text": [
      "tensor(1.7874)\n"
     ]
    }
   ],
   "source": [
    "a = torch.Tensor([[0.2356, -1.3686]])\n",
    "b = torch.Tensor([1]).type(torch.long)\n",
    "print(ll(a, b))"
   ]
  },
  {
   "cell_type": "code",
   "execution_count": 22,
   "id": "n4tx9LcDYa0I",
   "metadata": {
    "colab": {
     "base_uri": "https://localhost:8080/"
    },
    "id": "n4tx9LcDYa0I",
    "outputId": "ead2401d-b7cc-416c-9ee5-41eb820239ab"
   },
   "outputs": [
    {
     "name": "stdout",
     "output_type": "stream",
     "text": [
      "tensor([[0.8326, 0.1674]])\n"
     ]
    }
   ],
   "source": [
    "print(F.softmax(a, dim=1))"
   ]
  },
  {
   "cell_type": "code",
   "execution_count": 16,
   "id": "e72123ad-8e0c-4ac2-b82f-dc59cd285e75",
   "metadata": {
    "colab": {
     "base_uri": "https://localhost:8080/"
    },
    "id": "e72123ad-8e0c-4ac2-b82f-dc59cd285e75",
    "outputId": "634ced88-1628-4615-d696-594bea9d6b9b"
   },
   "outputs": [
    {
     "name": "stdout",
     "output_type": "stream",
     "text": [
      "DataBatch(x=[36, 1], edge_index=[2, 106], edge_attr=[106, 4], y=[4], batch=[36], ptr=[5])\n",
      "tensor([[ 0.2356, -1.3686],\n",
      "        [ 0.0730, -1.6184],\n",
      "        [ 0.6304, -0.6409],\n",
      "        [ 0.6203, -1.0323]])\n",
      "tensor([1, 1, 0, 0])\n",
      "tensor(1.0176)\n"
     ]
    }
   ],
   "source": [
    "\n",
    "with torch.no_grad():\n",
    "\n",
    "    for d in val_loader:\n",
    "        # dd = d[0]\n",
    "        print(d)\n",
    "        y_pr = sanity_model(d)\n",
    "        # print(dd)\n",
    "        print(y_pr)\n",
    "        print(d.y)\n",
    "        print(ll(y_pr, d.y))\n",
    "        break\n"
   ]
  },
  {
   "cell_type": "code",
   "execution_count": 23,
   "id": "MRUfakP_aybc",
   "metadata": {
    "colab": {
     "base_uri": "https://localhost:8080/"
    },
    "id": "MRUfakP_aybc",
    "outputId": "8985195e-bb0f-49c1-cf4a-c2ff78de80a8"
   },
   "outputs": [
    {
     "name": "stdout",
     "output_type": "stream",
     "text": [
      "True\n"
     ]
    }
   ],
   "source": [
    "print(torch.cuda.is_available())"
   ]
  },
  {
   "cell_type": "code",
   "execution_count": 24,
   "id": "85528fc9-7283-4d24-88a3-e7ab7da4f73d",
   "metadata": {
    "colab": {
     "base_uri": "https://localhost:8080/",
     "height": 922
    },
    "id": "85528fc9-7283-4d24-88a3-e7ab7da4f73d",
    "outputId": "58ebf3f4-bff6-4f2c-c1f7-5a72f7a47cdf"
   },
   "outputs": [
    {
     "name": "stdout",
     "output_type": "stream",
     "text": [
      "GNN\n",
      "\n",
      "GNN(\n",
      "  (lin_in): Linear(in_features=1, out_features=50, bias=True)\n",
      "  (convs): ModuleList(\n",
      "    (0-3): 4 x gLayer(emb_dim=50, aggr=add)\n",
      "  )\n",
      "  (lin_pred): Linear(in_features=50, out_features=2, bias=True)\n",
      ")\n",
      "Total parameters: 63402\n",
      "Running experiment for GNN, training on 7000 samples for 100 epochs.\n",
      "\n",
      "Model architecture:\n",
      "GNN(\n",
      "  (lin_in): Linear(in_features=1, out_features=50, bias=True)\n",
      "  (convs): ModuleList(\n",
      "    (0-3): 4 x gLayer(emb_dim=50, aggr=add)\n",
      "  )\n",
      "  (lin_pred): Linear(in_features=50, out_features=2, bias=True)\n",
      ")\n",
      "Total parameters: 63402\n",
      "\n",
      "Start training:\n"
     ]
    },
    {
     "name": "stderr",
     "output_type": "stream",
     "text": [
      " 10%|█         | 10/100 [01:01<09:21,  6.24s/it]"
     ]
    },
    {
     "name": "stdout",
     "output_type": "stream",
     "text": [
      "Epoch: 010, LR: 0.001000, Loss: 0.0023988, Val Loss: 0.0019298, Test Loss: 0.0010906\n"
     ]
    },
    {
     "name": "stderr",
     "output_type": "stream",
     "text": [
      " 20%|██        | 20/100 [02:00<07:54,  5.94s/it]"
     ]
    },
    {
     "name": "stdout",
     "output_type": "stream",
     "text": [
      "Epoch: 020, LR: 0.001000, Loss: 0.0022483, Val Loss: 0.0011539, Test Loss: 0.0054932\n"
     ]
    },
    {
     "name": "stderr",
     "output_type": "stream",
     "text": [
      " 30%|███       | 30/100 [03:01<07:00,  6.00s/it]"
     ]
    },
    {
     "name": "stdout",
     "output_type": "stream",
     "text": [
      "Epoch: 030, LR: 0.001000, Loss: 0.0009778, Val Loss: 0.0009333, Test Loss: 0.0007042\n"
     ]
    },
    {
     "name": "stderr",
     "output_type": "stream",
     "text": [
      " 40%|████      | 40/100 [04:02<06:12,  6.21s/it]"
     ]
    },
    {
     "name": "stdout",
     "output_type": "stream",
     "text": [
      "Epoch: 040, LR: 0.001000, Loss: 0.0013589, Val Loss: 0.0008006, Test Loss: 0.0007042\n"
     ]
    },
    {
     "name": "stderr",
     "output_type": "stream",
     "text": [
      " 50%|█████     | 50/100 [05:02<04:53,  5.86s/it]"
     ]
    },
    {
     "name": "stdout",
     "output_type": "stream",
     "text": [
      "Epoch: 050, LR: 0.001000, Loss: 0.0009694, Val Loss: 0.0008396, Test Loss: 0.0005906\n"
     ]
    },
    {
     "name": "stderr",
     "output_type": "stream",
     "text": [
      " 60%|██████    | 60/100 [06:01<03:53,  5.84s/it]"
     ]
    },
    {
     "name": "stdout",
     "output_type": "stream",
     "text": [
      "Epoch: 060, LR: 0.001000, Loss: 0.0016721, Val Loss: 0.0010573, Test Loss: 0.0005906\n"
     ]
    },
    {
     "name": "stderr",
     "output_type": "stream",
     "text": [
      " 70%|███████   | 70/100 [07:02<03:02,  6.09s/it]"
     ]
    },
    {
     "name": "stdout",
     "output_type": "stream",
     "text": [
      "Epoch: 070, LR: 0.001000, Loss: 0.0006076, Val Loss: 0.0007931, Test Loss: 0.0005746\n"
     ]
    },
    {
     "name": "stderr",
     "output_type": "stream",
     "text": [
      " 80%|████████  | 80/100 [08:02<02:07,  6.37s/it]"
     ]
    },
    {
     "name": "stdout",
     "output_type": "stream",
     "text": [
      "Epoch: 080, LR: 0.001000, Loss: 0.0006809, Val Loss: 0.0006467, Test Loss: 0.0005704\n"
     ]
    },
    {
     "name": "stderr",
     "output_type": "stream",
     "text": [
      " 90%|█████████ | 90/100 [09:03<00:59,  5.97s/it]"
     ]
    },
    {
     "name": "stdout",
     "output_type": "stream",
     "text": [
      "Epoch: 090, LR: 0.001000, Loss: 0.0004502, Val Loss: 0.0007316, Test Loss: 0.0006447\n"
     ]
    },
    {
     "name": "stderr",
     "output_type": "stream",
     "text": [
      "100%|██████████| 100/100 [10:03<00:00,  6.03s/it]"
     ]
    },
    {
     "name": "stdout",
     "output_type": "stream",
     "text": [
      "Epoch: 100, LR: 0.001000, Loss: 0.0007518, Val Loss: 0.0007550, Test Loss: 0.0006447\n",
      "\n",
      "Done! Training took 10.05 mins. Best validation Loss: 0.0005117, corresponding test Loss: 0.0006447.\n"
     ]
    },
    {
     "name": "stderr",
     "output_type": "stream",
     "text": [
      "\n"
     ]
    },
    {
     "ename": "AttributeError",
     "evalue": "'DataFrame' object has no attribute 'append'",
     "output_type": "error",
     "traceback": [
      "\u001b[0;31m---------------------------------------------------------------------------\u001b[0m",
      "\u001b[0;31mAttributeError\u001b[0m                            Traceback (most recent call last)",
      "\u001b[0;32m<ipython-input-24-3b85c55c9a27>\u001b[0m in \u001b[0;36m<cell line: 41>\u001b[0;34m()\u001b[0m\n\u001b[1;32m     39\u001b[0m \u001b[0mRESULTS\u001b[0m\u001b[0;34m[\u001b[0m\u001b[0mmodel_name\u001b[0m\u001b[0;34m]\u001b[0m \u001b[0;34m=\u001b[0m \u001b[0;34m(\u001b[0m\u001b[0mbest_val_error\u001b[0m\u001b[0;34m,\u001b[0m \u001b[0mtest_error\u001b[0m\u001b[0;34m,\u001b[0m \u001b[0mtrain_time\u001b[0m\u001b[0;34m)\u001b[0m\u001b[0;34m\u001b[0m\u001b[0;34m\u001b[0m\u001b[0m\n\u001b[1;32m     40\u001b[0m \u001b[0mdf_temp\u001b[0m \u001b[0;34m=\u001b[0m \u001b[0mpd\u001b[0m\u001b[0;34m.\u001b[0m\u001b[0mDataFrame\u001b[0m\u001b[0;34m(\u001b[0m\u001b[0mperf_per_epoch\u001b[0m\u001b[0;34m,\u001b[0m \u001b[0mcolumns\u001b[0m\u001b[0;34m=\u001b[0m\u001b[0;34m[\u001b[0m\u001b[0;34m\"Loss\"\u001b[0m\u001b[0;34m,\u001b[0m \u001b[0;34m\"Test MAE\"\u001b[0m\u001b[0;34m,\u001b[0m \u001b[0;34m\"Val MAE\"\u001b[0m\u001b[0;34m,\u001b[0m \u001b[0;34m\"Epoch\"\u001b[0m\u001b[0;34m,\u001b[0m \u001b[0;34m\"Model\"\u001b[0m\u001b[0;34m]\u001b[0m\u001b[0;34m)\u001b[0m\u001b[0;34m\u001b[0m\u001b[0;34m\u001b[0m\u001b[0m\n\u001b[0;32m---> 41\u001b[0;31m \u001b[0mDF_RESULTS\u001b[0m \u001b[0;34m=\u001b[0m \u001b[0mDF_RESULTS\u001b[0m\u001b[0;34m.\u001b[0m\u001b[0mappend\u001b[0m\u001b[0;34m(\u001b[0m\u001b[0mdf_temp\u001b[0m\u001b[0;34m,\u001b[0m \u001b[0mignore_index\u001b[0m\u001b[0;34m=\u001b[0m\u001b[0;32mTrue\u001b[0m\u001b[0;34m)\u001b[0m\u001b[0;34m\u001b[0m\u001b[0;34m\u001b[0m\u001b[0m\n\u001b[0m",
      "\u001b[0;32m/usr/local/lib/python3.10/dist-packages/pandas/core/generic.py\u001b[0m in \u001b[0;36m__getattr__\u001b[0;34m(self, name)\u001b[0m\n\u001b[1;32m   5987\u001b[0m         ):\n\u001b[1;32m   5988\u001b[0m             \u001b[0;32mreturn\u001b[0m \u001b[0mself\u001b[0m\u001b[0;34m[\u001b[0m\u001b[0mname\u001b[0m\u001b[0;34m]\u001b[0m\u001b[0;34m\u001b[0m\u001b[0;34m\u001b[0m\u001b[0m\n\u001b[0;32m-> 5989\u001b[0;31m         \u001b[0;32mreturn\u001b[0m \u001b[0mobject\u001b[0m\u001b[0;34m.\u001b[0m\u001b[0m__getattribute__\u001b[0m\u001b[0;34m(\u001b[0m\u001b[0mself\u001b[0m\u001b[0;34m,\u001b[0m \u001b[0mname\u001b[0m\u001b[0;34m)\u001b[0m\u001b[0;34m\u001b[0m\u001b[0;34m\u001b[0m\u001b[0m\n\u001b[0m\u001b[1;32m   5990\u001b[0m \u001b[0;34m\u001b[0m\u001b[0m\n\u001b[1;32m   5991\u001b[0m     \u001b[0;32mdef\u001b[0m \u001b[0m__setattr__\u001b[0m\u001b[0;34m(\u001b[0m\u001b[0mself\u001b[0m\u001b[0;34m,\u001b[0m \u001b[0mname\u001b[0m\u001b[0;34m:\u001b[0m \u001b[0mstr\u001b[0m\u001b[0;34m,\u001b[0m \u001b[0mvalue\u001b[0m\u001b[0;34m)\u001b[0m \u001b[0;34m->\u001b[0m \u001b[0;32mNone\u001b[0m\u001b[0;34m:\u001b[0m\u001b[0;34m\u001b[0m\u001b[0;34m\u001b[0m\u001b[0m\n",
      "\u001b[0;31mAttributeError\u001b[0m: 'DataFrame' object has no attribute 'append'"
     ]
    }
   ],
   "source": [
    "n_layers = 4\n",
    "emb_dim = 50\n",
    "in_dim = 1    # in_dim = 1 as the nodes are portraied as (n, 1) the embedding describes the degree of that node\n",
    "out_dim = len(class_desc)\n",
    "epochs = 100\n",
    "\n",
    "model = GNN(n_layers=n_layers, emb_dim=emb_dim, in_dim=in_dim, out_dim=out_dim)\n",
    "print(type(model).__name__)\n",
    "print()\n",
    "print(model)\n",
    "print(f'Total parameters: {get_params(model)}')\n",
    "\n",
    "loss_func = nn.CrossEntropyLoss()\n",
    "\n",
    "optimizer = torch.optim.Adam(model.parameters(), lr=0.001)\n",
    "\n",
    "# LR scheduler which decays LR when validation metric doesn't improve\n",
    "scheduler = torch.optim.lr_scheduler.ReduceLROnPlateau(\n",
    "    optimizer, mode='min', factor=0.9, patience=5, min_lr=0.00001)\n",
    "\n",
    "model_name = type(model).__name__\n",
    "\n",
    "best_val_error, test_error, train_time, perf_per_epoch = run_experiment(\n",
    "    model,\n",
    "    model_name,\n",
    "    epochs,\n",
    "    loss_func,\n",
    "    optimizer,\n",
    "    scheduler,\n",
    "    train_loader,\n",
    "    val_loader,\n",
    "    test_loader,\n",
    ")\n"
   ]
  },
  {
   "cell_type": "code",
   "execution_count": 34,
   "id": "b9308975-0eab-46ad-84ee-4dbc7df28b2e",
   "metadata": {
    "id": "b9308975-0eab-46ad-84ee-4dbc7df28b2e"
   },
   "outputs": [],
   "source": [
    "# For storing experimental results over the course of the practical\n",
    "RESULTS = {}\n",
    "DF_RESULTS = pd.DataFrame(columns=[\"Loss\", \"Test LOSS\", \"Val LOSS\", \"Epoch\", \"Model\"])"
   ]
  },
  {
   "cell_type": "code",
   "execution_count": 35,
   "id": "s5jU1dg-dVum",
   "metadata": {
    "colab": {
     "base_uri": "https://localhost:8080/",
     "height": 53
    },
    "id": "s5jU1dg-dVum",
    "outputId": "b2fb9620-f7b9-453a-a4df-13ffe822c13e"
   },
   "outputs": [
    {
     "data": {
      "application/vnd.google.colaboratory.intrinsic+json": {
       "repr_error": "Out of range float values are not JSON compliant: nan",
       "type": "dataframe",
       "variable_name": "DF_RESULTS"
      },
      "text/html": [
       "\n",
       "  <div id=\"df-74a14c27-c21a-4133-b311-5541b2d8938a\" class=\"colab-df-container\">\n",
       "    <div>\n",
       "<style scoped>\n",
       "    .dataframe tbody tr th:only-of-type {\n",
       "        vertical-align: middle;\n",
       "    }\n",
       "\n",
       "    .dataframe tbody tr th {\n",
       "        vertical-align: top;\n",
       "    }\n",
       "\n",
       "    .dataframe thead th {\n",
       "        text-align: right;\n",
       "    }\n",
       "</style>\n",
       "<table border=\"1\" class=\"dataframe\">\n",
       "  <thead>\n",
       "    <tr style=\"text-align: right;\">\n",
       "      <th></th>\n",
       "      <th>Loss</th>\n",
       "      <th>Test LOSS</th>\n",
       "      <th>Val LOSS</th>\n",
       "      <th>Epoch</th>\n",
       "      <th>Model</th>\n",
       "    </tr>\n",
       "  </thead>\n",
       "  <tbody>\n",
       "  </tbody>\n",
       "</table>\n",
       "</div>\n",
       "    <div class=\"colab-df-buttons\">\n",
       "\n",
       "  <div class=\"colab-df-container\">\n",
       "    <button class=\"colab-df-convert\" onclick=\"convertToInteractive('df-74a14c27-c21a-4133-b311-5541b2d8938a')\"\n",
       "            title=\"Convert this dataframe to an interactive table.\"\n",
       "            style=\"display:none;\">\n",
       "\n",
       "  <svg xmlns=\"http://www.w3.org/2000/svg\" height=\"24px\" viewBox=\"0 -960 960 960\">\n",
       "    <path d=\"M120-120v-720h720v720H120Zm60-500h600v-160H180v160Zm220 220h160v-160H400v160Zm0 220h160v-160H400v160ZM180-400h160v-160H180v160Zm440 0h160v-160H620v160ZM180-180h160v-160H180v160Zm440 0h160v-160H620v160Z\"/>\n",
       "  </svg>\n",
       "    </button>\n",
       "\n",
       "  <style>\n",
       "    .colab-df-container {\n",
       "      display:flex;\n",
       "      gap: 12px;\n",
       "    }\n",
       "\n",
       "    .colab-df-convert {\n",
       "      background-color: #E8F0FE;\n",
       "      border: none;\n",
       "      border-radius: 50%;\n",
       "      cursor: pointer;\n",
       "      display: none;\n",
       "      fill: #1967D2;\n",
       "      height: 32px;\n",
       "      padding: 0 0 0 0;\n",
       "      width: 32px;\n",
       "    }\n",
       "\n",
       "    .colab-df-convert:hover {\n",
       "      background-color: #E2EBFA;\n",
       "      box-shadow: 0px 1px 2px rgba(60, 64, 67, 0.3), 0px 1px 3px 1px rgba(60, 64, 67, 0.15);\n",
       "      fill: #174EA6;\n",
       "    }\n",
       "\n",
       "    .colab-df-buttons div {\n",
       "      margin-bottom: 4px;\n",
       "    }\n",
       "\n",
       "    [theme=dark] .colab-df-convert {\n",
       "      background-color: #3B4455;\n",
       "      fill: #D2E3FC;\n",
       "    }\n",
       "\n",
       "    [theme=dark] .colab-df-convert:hover {\n",
       "      background-color: #434B5C;\n",
       "      box-shadow: 0px 1px 3px 1px rgba(0, 0, 0, 0.15);\n",
       "      filter: drop-shadow(0px 1px 2px rgba(0, 0, 0, 0.3));\n",
       "      fill: #FFFFFF;\n",
       "    }\n",
       "  </style>\n",
       "\n",
       "    <script>\n",
       "      const buttonEl =\n",
       "        document.querySelector('#df-74a14c27-c21a-4133-b311-5541b2d8938a button.colab-df-convert');\n",
       "      buttonEl.style.display =\n",
       "        google.colab.kernel.accessAllowed ? 'block' : 'none';\n",
       "\n",
       "      async function convertToInteractive(key) {\n",
       "        const element = document.querySelector('#df-74a14c27-c21a-4133-b311-5541b2d8938a');\n",
       "        const dataTable =\n",
       "          await google.colab.kernel.invokeFunction('convertToInteractive',\n",
       "                                                    [key], {});\n",
       "        if (!dataTable) return;\n",
       "\n",
       "        const docLinkHtml = 'Like what you see? Visit the ' +\n",
       "          '<a target=\"_blank\" href=https://colab.research.google.com/notebooks/data_table.ipynb>data table notebook</a>'\n",
       "          + ' to learn more about interactive tables.';\n",
       "        element.innerHTML = '';\n",
       "        dataTable['output_type'] = 'display_data';\n",
       "        await google.colab.output.renderOutput(dataTable, element);\n",
       "        const docLink = document.createElement('div');\n",
       "        docLink.innerHTML = docLinkHtml;\n",
       "        element.appendChild(docLink);\n",
       "      }\n",
       "    </script>\n",
       "  </div>\n",
       "\n",
       "\n",
       "    </div>\n",
       "  </div>\n"
      ],
      "text/plain": [
       "Empty DataFrame\n",
       "Columns: [Loss, Test LOSS, Val LOSS, Epoch, Model]\n",
       "Index: []"
      ]
     },
     "execution_count": 35,
     "metadata": {},
     "output_type": "execute_result"
    }
   ],
   "source": [
    "DF_RESULTS.head()"
   ]
  },
  {
   "cell_type": "code",
   "execution_count": 37,
   "id": "mppZJywRdXeP",
   "metadata": {
    "id": "mppZJywRdXeP"
   },
   "outputs": [],
   "source": [
    "RESULTS[model_name] = (best_val_error, test_error, train_time)\n",
    "df_temp = pd.DataFrame(perf_per_epoch, columns=[\"Loss\", \"Test LOSS\", \"Val LOSS\", \"Epoch\", \"Model\"])"
   ]
  },
  {
   "cell_type": "code",
   "execution_count": 38,
   "id": "DasGnvc1dcLB",
   "metadata": {
    "colab": {
     "base_uri": "https://localhost:8080/",
     "height": 441
    },
    "id": "DasGnvc1dcLB",
    "outputId": "76e7a047-f159-497b-d5e1-2d45a88131fa"
   },
   "outputs": [
    {
     "name": "stdout",
     "output_type": "stream",
     "text": [
      "{'GNN': (0.0005116857351540602, 0.0006446597248268518, 10.054782776037852)}\n"
     ]
    },
    {
     "data": {
      "application/vnd.google.colaboratory.intrinsic+json": {
       "summary": "{\n  \"name\": \"df_temp\",\n  \"rows\": 100,\n  \"fields\": [\n    {\n      \"column\": \"Loss\",\n      \"properties\": {\n        \"dtype\": \"number\",\n        \"std\": 0.0011501889969387788,\n        \"min\": 0.00029695169342132237,\n        \"max\": 0.009208994520096374,\n        \"num_unique_values\": 100,\n        \"samples\": [\n          0.0008015251646933978,\n          0.0006727449551686797,\n          0.0004357066426943155\n        ],\n        \"semantic_type\": \"\",\n        \"description\": \"\"\n      }\n    },\n    {\n      \"column\": \"Test LOSS\",\n      \"properties\": {\n        \"dtype\": \"number\",\n        \"std\": 0.0016886760407508665,\n        \"min\": 0.00042651390021649147,\n        \"max\": 0.006775498794391752,\n        \"num_unique_values\": 14,\n        \"samples\": [\n          0.000590614610879129,\n          0.0005704258871683123,\n          0.006775498794391752\n        ],\n        \"semantic_type\": \"\",\n        \"description\": \"\"\n      }\n    },\n    {\n      \"column\": \"Val LOSS\",\n      \"properties\": {\n        \"dtype\": \"number\",\n        \"std\": 0.004949277783486941,\n        \"min\": 0.0005116857351540602,\n        \"max\": 0.041314906055733444,\n        \"num_unique_values\": 100,\n        \"samples\": [\n          0.0009150584298779449,\n          0.0008709077337116469,\n          0.0008907073873622266\n        ],\n        \"semantic_type\": \"\",\n        \"description\": \"\"\n      }\n    },\n    {\n      \"column\": \"Epoch\",\n      \"properties\": {\n        \"dtype\": \"number\",\n        \"std\": 29,\n        \"min\": 1,\n        \"max\": 100,\n        \"num_unique_values\": 100,\n        \"samples\": [\n          84,\n          54,\n          71\n        ],\n        \"semantic_type\": \"\",\n        \"description\": \"\"\n      }\n    },\n    {\n      \"column\": \"Model\",\n      \"properties\": {\n        \"dtype\": \"category\",\n        \"num_unique_values\": 1,\n        \"samples\": [\n          \"GNN\"\n        ],\n        \"semantic_type\": \"\",\n        \"description\": \"\"\n      }\n    }\n  ]\n}",
       "type": "dataframe",
       "variable_name": "df_temp"
      },
      "text/html": [
       "\n",
       "  <div id=\"df-3ee347a1-6053-4c2a-bebf-113866ef8cfa\" class=\"colab-df-container\">\n",
       "    <div>\n",
       "<style scoped>\n",
       "    .dataframe tbody tr th:only-of-type {\n",
       "        vertical-align: middle;\n",
       "    }\n",
       "\n",
       "    .dataframe tbody tr th {\n",
       "        vertical-align: top;\n",
       "    }\n",
       "\n",
       "    .dataframe thead th {\n",
       "        text-align: right;\n",
       "    }\n",
       "</style>\n",
       "<table border=\"1\" class=\"dataframe\">\n",
       "  <thead>\n",
       "    <tr style=\"text-align: right;\">\n",
       "      <th></th>\n",
       "      <th>Loss</th>\n",
       "      <th>Test LOSS</th>\n",
       "      <th>Val LOSS</th>\n",
       "      <th>Epoch</th>\n",
       "      <th>Model</th>\n",
       "    </tr>\n",
       "  </thead>\n",
       "  <tbody>\n",
       "    <tr>\n",
       "      <th>0</th>\n",
       "      <td>0.009209</td>\n",
       "      <td>0.006775</td>\n",
       "      <td>0.007419</td>\n",
       "      <td>1</td>\n",
       "      <td>GNN</td>\n",
       "    </tr>\n",
       "    <tr>\n",
       "      <th>1</th>\n",
       "      <td>0.004902</td>\n",
       "      <td>0.002467</td>\n",
       "      <td>0.003181</td>\n",
       "      <td>2</td>\n",
       "      <td>GNN</td>\n",
       "    </tr>\n",
       "    <tr>\n",
       "      <th>2</th>\n",
       "      <td>0.004174</td>\n",
       "      <td>0.002495</td>\n",
       "      <td>0.002876</td>\n",
       "      <td>3</td>\n",
       "      <td>GNN</td>\n",
       "    </tr>\n",
       "    <tr>\n",
       "      <th>3</th>\n",
       "      <td>0.003584</td>\n",
       "      <td>0.002495</td>\n",
       "      <td>0.003005</td>\n",
       "      <td>4</td>\n",
       "      <td>GNN</td>\n",
       "    </tr>\n",
       "    <tr>\n",
       "      <th>4</th>\n",
       "      <td>0.003345</td>\n",
       "      <td>0.002495</td>\n",
       "      <td>0.002936</td>\n",
       "      <td>5</td>\n",
       "      <td>GNN</td>\n",
       "    </tr>\n",
       "    <tr>\n",
       "      <th>...</th>\n",
       "      <td>...</td>\n",
       "      <td>...</td>\n",
       "      <td>...</td>\n",
       "      <td>...</td>\n",
       "      <td>...</td>\n",
       "    </tr>\n",
       "    <tr>\n",
       "      <th>95</th>\n",
       "      <td>0.001061</td>\n",
       "      <td>0.000645</td>\n",
       "      <td>0.000615</td>\n",
       "      <td>96</td>\n",
       "      <td>GNN</td>\n",
       "    </tr>\n",
       "    <tr>\n",
       "      <th>96</th>\n",
       "      <td>0.000414</td>\n",
       "      <td>0.000645</td>\n",
       "      <td>0.001192</td>\n",
       "      <td>97</td>\n",
       "      <td>GNN</td>\n",
       "    </tr>\n",
       "    <tr>\n",
       "      <th>97</th>\n",
       "      <td>0.000437</td>\n",
       "      <td>0.000645</td>\n",
       "      <td>0.001394</td>\n",
       "      <td>98</td>\n",
       "      <td>GNN</td>\n",
       "    </tr>\n",
       "    <tr>\n",
       "      <th>98</th>\n",
       "      <td>0.000297</td>\n",
       "      <td>0.000645</td>\n",
       "      <td>0.000589</td>\n",
       "      <td>99</td>\n",
       "      <td>GNN</td>\n",
       "    </tr>\n",
       "    <tr>\n",
       "      <th>99</th>\n",
       "      <td>0.000752</td>\n",
       "      <td>0.000645</td>\n",
       "      <td>0.000755</td>\n",
       "      <td>100</td>\n",
       "      <td>GNN</td>\n",
       "    </tr>\n",
       "  </tbody>\n",
       "</table>\n",
       "<p>100 rows × 5 columns</p>\n",
       "</div>\n",
       "    <div class=\"colab-df-buttons\">\n",
       "\n",
       "  <div class=\"colab-df-container\">\n",
       "    <button class=\"colab-df-convert\" onclick=\"convertToInteractive('df-3ee347a1-6053-4c2a-bebf-113866ef8cfa')\"\n",
       "            title=\"Convert this dataframe to an interactive table.\"\n",
       "            style=\"display:none;\">\n",
       "\n",
       "  <svg xmlns=\"http://www.w3.org/2000/svg\" height=\"24px\" viewBox=\"0 -960 960 960\">\n",
       "    <path d=\"M120-120v-720h720v720H120Zm60-500h600v-160H180v160Zm220 220h160v-160H400v160Zm0 220h160v-160H400v160ZM180-400h160v-160H180v160Zm440 0h160v-160H620v160ZM180-180h160v-160H180v160Zm440 0h160v-160H620v160Z\"/>\n",
       "  </svg>\n",
       "    </button>\n",
       "\n",
       "  <style>\n",
       "    .colab-df-container {\n",
       "      display:flex;\n",
       "      gap: 12px;\n",
       "    }\n",
       "\n",
       "    .colab-df-convert {\n",
       "      background-color: #E8F0FE;\n",
       "      border: none;\n",
       "      border-radius: 50%;\n",
       "      cursor: pointer;\n",
       "      display: none;\n",
       "      fill: #1967D2;\n",
       "      height: 32px;\n",
       "      padding: 0 0 0 0;\n",
       "      width: 32px;\n",
       "    }\n",
       "\n",
       "    .colab-df-convert:hover {\n",
       "      background-color: #E2EBFA;\n",
       "      box-shadow: 0px 1px 2px rgba(60, 64, 67, 0.3), 0px 1px 3px 1px rgba(60, 64, 67, 0.15);\n",
       "      fill: #174EA6;\n",
       "    }\n",
       "\n",
       "    .colab-df-buttons div {\n",
       "      margin-bottom: 4px;\n",
       "    }\n",
       "\n",
       "    [theme=dark] .colab-df-convert {\n",
       "      background-color: #3B4455;\n",
       "      fill: #D2E3FC;\n",
       "    }\n",
       "\n",
       "    [theme=dark] .colab-df-convert:hover {\n",
       "      background-color: #434B5C;\n",
       "      box-shadow: 0px 1px 3px 1px rgba(0, 0, 0, 0.15);\n",
       "      filter: drop-shadow(0px 1px 2px rgba(0, 0, 0, 0.3));\n",
       "      fill: #FFFFFF;\n",
       "    }\n",
       "  </style>\n",
       "\n",
       "    <script>\n",
       "      const buttonEl =\n",
       "        document.querySelector('#df-3ee347a1-6053-4c2a-bebf-113866ef8cfa button.colab-df-convert');\n",
       "      buttonEl.style.display =\n",
       "        google.colab.kernel.accessAllowed ? 'block' : 'none';\n",
       "\n",
       "      async function convertToInteractive(key) {\n",
       "        const element = document.querySelector('#df-3ee347a1-6053-4c2a-bebf-113866ef8cfa');\n",
       "        const dataTable =\n",
       "          await google.colab.kernel.invokeFunction('convertToInteractive',\n",
       "                                                    [key], {});\n",
       "        if (!dataTable) return;\n",
       "\n",
       "        const docLinkHtml = 'Like what you see? Visit the ' +\n",
       "          '<a target=\"_blank\" href=https://colab.research.google.com/notebooks/data_table.ipynb>data table notebook</a>'\n",
       "          + ' to learn more about interactive tables.';\n",
       "        element.innerHTML = '';\n",
       "        dataTable['output_type'] = 'display_data';\n",
       "        await google.colab.output.renderOutput(dataTable, element);\n",
       "        const docLink = document.createElement('div');\n",
       "        docLink.innerHTML = docLinkHtml;\n",
       "        element.appendChild(docLink);\n",
       "      }\n",
       "    </script>\n",
       "  </div>\n",
       "\n",
       "\n",
       "<div id=\"df-0d6f7ccc-01b2-45f5-9e6a-fde275f6f438\">\n",
       "  <button class=\"colab-df-quickchart\" onclick=\"quickchart('df-0d6f7ccc-01b2-45f5-9e6a-fde275f6f438')\"\n",
       "            title=\"Suggest charts\"\n",
       "            style=\"display:none;\">\n",
       "\n",
       "<svg xmlns=\"http://www.w3.org/2000/svg\" height=\"24px\"viewBox=\"0 0 24 24\"\n",
       "     width=\"24px\">\n",
       "    <g>\n",
       "        <path d=\"M19 3H5c-1.1 0-2 .9-2 2v14c0 1.1.9 2 2 2h14c1.1 0 2-.9 2-2V5c0-1.1-.9-2-2-2zM9 17H7v-7h2v7zm4 0h-2V7h2v10zm4 0h-2v-4h2v4z\"/>\n",
       "    </g>\n",
       "</svg>\n",
       "  </button>\n",
       "\n",
       "<style>\n",
       "  .colab-df-quickchart {\n",
       "      --bg-color: #E8F0FE;\n",
       "      --fill-color: #1967D2;\n",
       "      --hover-bg-color: #E2EBFA;\n",
       "      --hover-fill-color: #174EA6;\n",
       "      --disabled-fill-color: #AAA;\n",
       "      --disabled-bg-color: #DDD;\n",
       "  }\n",
       "\n",
       "  [theme=dark] .colab-df-quickchart {\n",
       "      --bg-color: #3B4455;\n",
       "      --fill-color: #D2E3FC;\n",
       "      --hover-bg-color: #434B5C;\n",
       "      --hover-fill-color: #FFFFFF;\n",
       "      --disabled-bg-color: #3B4455;\n",
       "      --disabled-fill-color: #666;\n",
       "  }\n",
       "\n",
       "  .colab-df-quickchart {\n",
       "    background-color: var(--bg-color);\n",
       "    border: none;\n",
       "    border-radius: 50%;\n",
       "    cursor: pointer;\n",
       "    display: none;\n",
       "    fill: var(--fill-color);\n",
       "    height: 32px;\n",
       "    padding: 0;\n",
       "    width: 32px;\n",
       "  }\n",
       "\n",
       "  .colab-df-quickchart:hover {\n",
       "    background-color: var(--hover-bg-color);\n",
       "    box-shadow: 0 1px 2px rgba(60, 64, 67, 0.3), 0 1px 3px 1px rgba(60, 64, 67, 0.15);\n",
       "    fill: var(--button-hover-fill-color);\n",
       "  }\n",
       "\n",
       "  .colab-df-quickchart-complete:disabled,\n",
       "  .colab-df-quickchart-complete:disabled:hover {\n",
       "    background-color: var(--disabled-bg-color);\n",
       "    fill: var(--disabled-fill-color);\n",
       "    box-shadow: none;\n",
       "  }\n",
       "\n",
       "  .colab-df-spinner {\n",
       "    border: 2px solid var(--fill-color);\n",
       "    border-color: transparent;\n",
       "    border-bottom-color: var(--fill-color);\n",
       "    animation:\n",
       "      spin 1s steps(1) infinite;\n",
       "  }\n",
       "\n",
       "  @keyframes spin {\n",
       "    0% {\n",
       "      border-color: transparent;\n",
       "      border-bottom-color: var(--fill-color);\n",
       "      border-left-color: var(--fill-color);\n",
       "    }\n",
       "    20% {\n",
       "      border-color: transparent;\n",
       "      border-left-color: var(--fill-color);\n",
       "      border-top-color: var(--fill-color);\n",
       "    }\n",
       "    30% {\n",
       "      border-color: transparent;\n",
       "      border-left-color: var(--fill-color);\n",
       "      border-top-color: var(--fill-color);\n",
       "      border-right-color: var(--fill-color);\n",
       "    }\n",
       "    40% {\n",
       "      border-color: transparent;\n",
       "      border-right-color: var(--fill-color);\n",
       "      border-top-color: var(--fill-color);\n",
       "    }\n",
       "    60% {\n",
       "      border-color: transparent;\n",
       "      border-right-color: var(--fill-color);\n",
       "    }\n",
       "    80% {\n",
       "      border-color: transparent;\n",
       "      border-right-color: var(--fill-color);\n",
       "      border-bottom-color: var(--fill-color);\n",
       "    }\n",
       "    90% {\n",
       "      border-color: transparent;\n",
       "      border-bottom-color: var(--fill-color);\n",
       "    }\n",
       "  }\n",
       "</style>\n",
       "\n",
       "  <script>\n",
       "    async function quickchart(key) {\n",
       "      const quickchartButtonEl =\n",
       "        document.querySelector('#' + key + ' button');\n",
       "      quickchartButtonEl.disabled = true;  // To prevent multiple clicks.\n",
       "      quickchartButtonEl.classList.add('colab-df-spinner');\n",
       "      try {\n",
       "        const charts = await google.colab.kernel.invokeFunction(\n",
       "            'suggestCharts', [key], {});\n",
       "      } catch (error) {\n",
       "        console.error('Error during call to suggestCharts:', error);\n",
       "      }\n",
       "      quickchartButtonEl.classList.remove('colab-df-spinner');\n",
       "      quickchartButtonEl.classList.add('colab-df-quickchart-complete');\n",
       "    }\n",
       "    (() => {\n",
       "      let quickchartButtonEl =\n",
       "        document.querySelector('#df-0d6f7ccc-01b2-45f5-9e6a-fde275f6f438 button');\n",
       "      quickchartButtonEl.style.display =\n",
       "        google.colab.kernel.accessAllowed ? 'block' : 'none';\n",
       "    })();\n",
       "  </script>\n",
       "</div>\n",
       "\n",
       "  <div id=\"id_56e1a257-0f0d-456e-8700-089fd5d2166d\">\n",
       "    <style>\n",
       "      .colab-df-generate {\n",
       "        background-color: #E8F0FE;\n",
       "        border: none;\n",
       "        border-radius: 50%;\n",
       "        cursor: pointer;\n",
       "        display: none;\n",
       "        fill: #1967D2;\n",
       "        height: 32px;\n",
       "        padding: 0 0 0 0;\n",
       "        width: 32px;\n",
       "      }\n",
       "\n",
       "      .colab-df-generate:hover {\n",
       "        background-color: #E2EBFA;\n",
       "        box-shadow: 0px 1px 2px rgba(60, 64, 67, 0.3), 0px 1px 3px 1px rgba(60, 64, 67, 0.15);\n",
       "        fill: #174EA6;\n",
       "      }\n",
       "\n",
       "      [theme=dark] .colab-df-generate {\n",
       "        background-color: #3B4455;\n",
       "        fill: #D2E3FC;\n",
       "      }\n",
       "\n",
       "      [theme=dark] .colab-df-generate:hover {\n",
       "        background-color: #434B5C;\n",
       "        box-shadow: 0px 1px 3px 1px rgba(0, 0, 0, 0.15);\n",
       "        filter: drop-shadow(0px 1px 2px rgba(0, 0, 0, 0.3));\n",
       "        fill: #FFFFFF;\n",
       "      }\n",
       "    </style>\n",
       "    <button class=\"colab-df-generate\" onclick=\"generateWithVariable('df_temp')\"\n",
       "            title=\"Generate code using this dataframe.\"\n",
       "            style=\"display:none;\">\n",
       "\n",
       "  <svg xmlns=\"http://www.w3.org/2000/svg\" height=\"24px\"viewBox=\"0 0 24 24\"\n",
       "       width=\"24px\">\n",
       "    <path d=\"M7,19H8.4L18.45,9,17,7.55,7,17.6ZM5,21V16.75L18.45,3.32a2,2,0,0,1,2.83,0l1.4,1.43a1.91,1.91,0,0,1,.58,1.4,1.91,1.91,0,0,1-.58,1.4L9.25,21ZM18.45,9,17,7.55Zm-12,3A5.31,5.31,0,0,0,4.9,8.1,5.31,5.31,0,0,0,1,6.5,5.31,5.31,0,0,0,4.9,4.9,5.31,5.31,0,0,0,6.5,1,5.31,5.31,0,0,0,8.1,4.9,5.31,5.31,0,0,0,12,6.5,5.46,5.46,0,0,0,6.5,12Z\"/>\n",
       "  </svg>\n",
       "    </button>\n",
       "    <script>\n",
       "      (() => {\n",
       "      const buttonEl =\n",
       "        document.querySelector('#id_56e1a257-0f0d-456e-8700-089fd5d2166d button.colab-df-generate');\n",
       "      buttonEl.style.display =\n",
       "        google.colab.kernel.accessAllowed ? 'block' : 'none';\n",
       "\n",
       "      buttonEl.onclick = () => {\n",
       "        google.colab.notebook.generateWithVariable('df_temp');\n",
       "      }\n",
       "      })();\n",
       "    </script>\n",
       "  </div>\n",
       "\n",
       "    </div>\n",
       "  </div>\n"
      ],
      "text/plain": [
       "        Loss  Test LOSS  Val LOSS  Epoch Model\n",
       "0   0.009209   0.006775  0.007419      1   GNN\n",
       "1   0.004902   0.002467  0.003181      2   GNN\n",
       "2   0.004174   0.002495  0.002876      3   GNN\n",
       "3   0.003584   0.002495  0.003005      4   GNN\n",
       "4   0.003345   0.002495  0.002936      5   GNN\n",
       "..       ...        ...       ...    ...   ...\n",
       "95  0.001061   0.000645  0.000615     96   GNN\n",
       "96  0.000414   0.000645  0.001192     97   GNN\n",
       "97  0.000437   0.000645  0.001394     98   GNN\n",
       "98  0.000297   0.000645  0.000589     99   GNN\n",
       "99  0.000752   0.000645  0.000755    100   GNN\n",
       "\n",
       "[100 rows x 5 columns]"
      ]
     },
     "execution_count": 38,
     "metadata": {},
     "output_type": "execute_result"
    }
   ],
   "source": [
    "print(RESULTS)\n",
    "df_temp"
   ]
  },
  {
   "cell_type": "code",
   "execution_count": 39,
   "id": "ORq2tCEMddrJ",
   "metadata": {
    "colab": {
     "base_uri": "https://localhost:8080/",
     "height": 424
    },
    "id": "ORq2tCEMddrJ",
    "outputId": "28d0ce62-218b-42d2-e8b0-a0ef803b8a94"
   },
   "outputs": [
    {
     "data": {
      "application/vnd.google.colaboratory.intrinsic+json": {
       "summary": "{\n  \"name\": \"DF_RESULTS\",\n  \"rows\": 100,\n  \"fields\": [\n    {\n      \"column\": \"Loss\",\n      \"properties\": {\n        \"dtype\": \"number\",\n        \"std\": 0.0011501889969387788,\n        \"min\": 0.00029695169342132237,\n        \"max\": 0.009208994520096374,\n        \"num_unique_values\": 100,\n        \"samples\": [\n          0.0008015251646933978,\n          0.0006727449551686797,\n          0.0004357066426943155\n        ],\n        \"semantic_type\": \"\",\n        \"description\": \"\"\n      }\n    },\n    {\n      \"column\": \"Test LOSS\",\n      \"properties\": {\n        \"dtype\": \"number\",\n        \"std\": 0.0016886760407508665,\n        \"min\": 0.00042651390021649147,\n        \"max\": 0.006775498794391752,\n        \"num_unique_values\": 14,\n        \"samples\": [\n          0.000590614610879129,\n          0.0005704258871683123,\n          0.006775498794391752\n        ],\n        \"semantic_type\": \"\",\n        \"description\": \"\"\n      }\n    },\n    {\n      \"column\": \"Val LOSS\",\n      \"properties\": {\n        \"dtype\": \"number\",\n        \"std\": 0.004949277783486941,\n        \"min\": 0.0005116857351540602,\n        \"max\": 0.041314906055733444,\n        \"num_unique_values\": 100,\n        \"samples\": [\n          0.0009150584298779449,\n          0.0008709077337116469,\n          0.0008907073873622266\n        ],\n        \"semantic_type\": \"\",\n        \"description\": \"\"\n      }\n    },\n    {\n      \"column\": \"Epoch\",\n      \"properties\": {\n        \"dtype\": \"date\",\n        \"min\": 1,\n        \"max\": 100,\n        \"num_unique_values\": 100,\n        \"samples\": [\n          84,\n          54,\n          71\n        ],\n        \"semantic_type\": \"\",\n        \"description\": \"\"\n      }\n    },\n    {\n      \"column\": \"Model\",\n      \"properties\": {\n        \"dtype\": \"category\",\n        \"num_unique_values\": 1,\n        \"samples\": [\n          \"GNN\"\n        ],\n        \"semantic_type\": \"\",\n        \"description\": \"\"\n      }\n    }\n  ]\n}",
       "type": "dataframe",
       "variable_name": "DF_RESULTS"
      },
      "text/html": [
       "\n",
       "  <div id=\"df-b1bff8b2-29e6-475a-a3ab-bd27feaaf5be\" class=\"colab-df-container\">\n",
       "    <div>\n",
       "<style scoped>\n",
       "    .dataframe tbody tr th:only-of-type {\n",
       "        vertical-align: middle;\n",
       "    }\n",
       "\n",
       "    .dataframe tbody tr th {\n",
       "        vertical-align: top;\n",
       "    }\n",
       "\n",
       "    .dataframe thead th {\n",
       "        text-align: right;\n",
       "    }\n",
       "</style>\n",
       "<table border=\"1\" class=\"dataframe\">\n",
       "  <thead>\n",
       "    <tr style=\"text-align: right;\">\n",
       "      <th></th>\n",
       "      <th>Loss</th>\n",
       "      <th>Test LOSS</th>\n",
       "      <th>Val LOSS</th>\n",
       "      <th>Epoch</th>\n",
       "      <th>Model</th>\n",
       "    </tr>\n",
       "  </thead>\n",
       "  <tbody>\n",
       "    <tr>\n",
       "      <th>0</th>\n",
       "      <td>0.009209</td>\n",
       "      <td>0.006775</td>\n",
       "      <td>0.007419</td>\n",
       "      <td>1</td>\n",
       "      <td>GNN</td>\n",
       "    </tr>\n",
       "    <tr>\n",
       "      <th>1</th>\n",
       "      <td>0.004902</td>\n",
       "      <td>0.002467</td>\n",
       "      <td>0.003181</td>\n",
       "      <td>2</td>\n",
       "      <td>GNN</td>\n",
       "    </tr>\n",
       "    <tr>\n",
       "      <th>2</th>\n",
       "      <td>0.004174</td>\n",
       "      <td>0.002495</td>\n",
       "      <td>0.002876</td>\n",
       "      <td>3</td>\n",
       "      <td>GNN</td>\n",
       "    </tr>\n",
       "    <tr>\n",
       "      <th>3</th>\n",
       "      <td>0.003584</td>\n",
       "      <td>0.002495</td>\n",
       "      <td>0.003005</td>\n",
       "      <td>4</td>\n",
       "      <td>GNN</td>\n",
       "    </tr>\n",
       "    <tr>\n",
       "      <th>4</th>\n",
       "      <td>0.003345</td>\n",
       "      <td>0.002495</td>\n",
       "      <td>0.002936</td>\n",
       "      <td>5</td>\n",
       "      <td>GNN</td>\n",
       "    </tr>\n",
       "    <tr>\n",
       "      <th>...</th>\n",
       "      <td>...</td>\n",
       "      <td>...</td>\n",
       "      <td>...</td>\n",
       "      <td>...</td>\n",
       "      <td>...</td>\n",
       "    </tr>\n",
       "    <tr>\n",
       "      <th>95</th>\n",
       "      <td>0.001061</td>\n",
       "      <td>0.000645</td>\n",
       "      <td>0.000615</td>\n",
       "      <td>96</td>\n",
       "      <td>GNN</td>\n",
       "    </tr>\n",
       "    <tr>\n",
       "      <th>96</th>\n",
       "      <td>0.000414</td>\n",
       "      <td>0.000645</td>\n",
       "      <td>0.001192</td>\n",
       "      <td>97</td>\n",
       "      <td>GNN</td>\n",
       "    </tr>\n",
       "    <tr>\n",
       "      <th>97</th>\n",
       "      <td>0.000437</td>\n",
       "      <td>0.000645</td>\n",
       "      <td>0.001394</td>\n",
       "      <td>98</td>\n",
       "      <td>GNN</td>\n",
       "    </tr>\n",
       "    <tr>\n",
       "      <th>98</th>\n",
       "      <td>0.000297</td>\n",
       "      <td>0.000645</td>\n",
       "      <td>0.000589</td>\n",
       "      <td>99</td>\n",
       "      <td>GNN</td>\n",
       "    </tr>\n",
       "    <tr>\n",
       "      <th>99</th>\n",
       "      <td>0.000752</td>\n",
       "      <td>0.000645</td>\n",
       "      <td>0.000755</td>\n",
       "      <td>100</td>\n",
       "      <td>GNN</td>\n",
       "    </tr>\n",
       "  </tbody>\n",
       "</table>\n",
       "<p>100 rows × 5 columns</p>\n",
       "</div>\n",
       "    <div class=\"colab-df-buttons\">\n",
       "\n",
       "  <div class=\"colab-df-container\">\n",
       "    <button class=\"colab-df-convert\" onclick=\"convertToInteractive('df-b1bff8b2-29e6-475a-a3ab-bd27feaaf5be')\"\n",
       "            title=\"Convert this dataframe to an interactive table.\"\n",
       "            style=\"display:none;\">\n",
       "\n",
       "  <svg xmlns=\"http://www.w3.org/2000/svg\" height=\"24px\" viewBox=\"0 -960 960 960\">\n",
       "    <path d=\"M120-120v-720h720v720H120Zm60-500h600v-160H180v160Zm220 220h160v-160H400v160Zm0 220h160v-160H400v160ZM180-400h160v-160H180v160Zm440 0h160v-160H620v160ZM180-180h160v-160H180v160Zm440 0h160v-160H620v160Z\"/>\n",
       "  </svg>\n",
       "    </button>\n",
       "\n",
       "  <style>\n",
       "    .colab-df-container {\n",
       "      display:flex;\n",
       "      gap: 12px;\n",
       "    }\n",
       "\n",
       "    .colab-df-convert {\n",
       "      background-color: #E8F0FE;\n",
       "      border: none;\n",
       "      border-radius: 50%;\n",
       "      cursor: pointer;\n",
       "      display: none;\n",
       "      fill: #1967D2;\n",
       "      height: 32px;\n",
       "      padding: 0 0 0 0;\n",
       "      width: 32px;\n",
       "    }\n",
       "\n",
       "    .colab-df-convert:hover {\n",
       "      background-color: #E2EBFA;\n",
       "      box-shadow: 0px 1px 2px rgba(60, 64, 67, 0.3), 0px 1px 3px 1px rgba(60, 64, 67, 0.15);\n",
       "      fill: #174EA6;\n",
       "    }\n",
       "\n",
       "    .colab-df-buttons div {\n",
       "      margin-bottom: 4px;\n",
       "    }\n",
       "\n",
       "    [theme=dark] .colab-df-convert {\n",
       "      background-color: #3B4455;\n",
       "      fill: #D2E3FC;\n",
       "    }\n",
       "\n",
       "    [theme=dark] .colab-df-convert:hover {\n",
       "      background-color: #434B5C;\n",
       "      box-shadow: 0px 1px 3px 1px rgba(0, 0, 0, 0.15);\n",
       "      filter: drop-shadow(0px 1px 2px rgba(0, 0, 0, 0.3));\n",
       "      fill: #FFFFFF;\n",
       "    }\n",
       "  </style>\n",
       "\n",
       "    <script>\n",
       "      const buttonEl =\n",
       "        document.querySelector('#df-b1bff8b2-29e6-475a-a3ab-bd27feaaf5be button.colab-df-convert');\n",
       "      buttonEl.style.display =\n",
       "        google.colab.kernel.accessAllowed ? 'block' : 'none';\n",
       "\n",
       "      async function convertToInteractive(key) {\n",
       "        const element = document.querySelector('#df-b1bff8b2-29e6-475a-a3ab-bd27feaaf5be');\n",
       "        const dataTable =\n",
       "          await google.colab.kernel.invokeFunction('convertToInteractive',\n",
       "                                                    [key], {});\n",
       "        if (!dataTable) return;\n",
       "\n",
       "        const docLinkHtml = 'Like what you see? Visit the ' +\n",
       "          '<a target=\"_blank\" href=https://colab.research.google.com/notebooks/data_table.ipynb>data table notebook</a>'\n",
       "          + ' to learn more about interactive tables.';\n",
       "        element.innerHTML = '';\n",
       "        dataTable['output_type'] = 'display_data';\n",
       "        await google.colab.output.renderOutput(dataTable, element);\n",
       "        const docLink = document.createElement('div');\n",
       "        docLink.innerHTML = docLinkHtml;\n",
       "        element.appendChild(docLink);\n",
       "      }\n",
       "    </script>\n",
       "  </div>\n",
       "\n",
       "\n",
       "<div id=\"df-b3229b44-c087-4c7f-8355-916b66e999ae\">\n",
       "  <button class=\"colab-df-quickchart\" onclick=\"quickchart('df-b3229b44-c087-4c7f-8355-916b66e999ae')\"\n",
       "            title=\"Suggest charts\"\n",
       "            style=\"display:none;\">\n",
       "\n",
       "<svg xmlns=\"http://www.w3.org/2000/svg\" height=\"24px\"viewBox=\"0 0 24 24\"\n",
       "     width=\"24px\">\n",
       "    <g>\n",
       "        <path d=\"M19 3H5c-1.1 0-2 .9-2 2v14c0 1.1.9 2 2 2h14c1.1 0 2-.9 2-2V5c0-1.1-.9-2-2-2zM9 17H7v-7h2v7zm4 0h-2V7h2v10zm4 0h-2v-4h2v4z\"/>\n",
       "    </g>\n",
       "</svg>\n",
       "  </button>\n",
       "\n",
       "<style>\n",
       "  .colab-df-quickchart {\n",
       "      --bg-color: #E8F0FE;\n",
       "      --fill-color: #1967D2;\n",
       "      --hover-bg-color: #E2EBFA;\n",
       "      --hover-fill-color: #174EA6;\n",
       "      --disabled-fill-color: #AAA;\n",
       "      --disabled-bg-color: #DDD;\n",
       "  }\n",
       "\n",
       "  [theme=dark] .colab-df-quickchart {\n",
       "      --bg-color: #3B4455;\n",
       "      --fill-color: #D2E3FC;\n",
       "      --hover-bg-color: #434B5C;\n",
       "      --hover-fill-color: #FFFFFF;\n",
       "      --disabled-bg-color: #3B4455;\n",
       "      --disabled-fill-color: #666;\n",
       "  }\n",
       "\n",
       "  .colab-df-quickchart {\n",
       "    background-color: var(--bg-color);\n",
       "    border: none;\n",
       "    border-radius: 50%;\n",
       "    cursor: pointer;\n",
       "    display: none;\n",
       "    fill: var(--fill-color);\n",
       "    height: 32px;\n",
       "    padding: 0;\n",
       "    width: 32px;\n",
       "  }\n",
       "\n",
       "  .colab-df-quickchart:hover {\n",
       "    background-color: var(--hover-bg-color);\n",
       "    box-shadow: 0 1px 2px rgba(60, 64, 67, 0.3), 0 1px 3px 1px rgba(60, 64, 67, 0.15);\n",
       "    fill: var(--button-hover-fill-color);\n",
       "  }\n",
       "\n",
       "  .colab-df-quickchart-complete:disabled,\n",
       "  .colab-df-quickchart-complete:disabled:hover {\n",
       "    background-color: var(--disabled-bg-color);\n",
       "    fill: var(--disabled-fill-color);\n",
       "    box-shadow: none;\n",
       "  }\n",
       "\n",
       "  .colab-df-spinner {\n",
       "    border: 2px solid var(--fill-color);\n",
       "    border-color: transparent;\n",
       "    border-bottom-color: var(--fill-color);\n",
       "    animation:\n",
       "      spin 1s steps(1) infinite;\n",
       "  }\n",
       "\n",
       "  @keyframes spin {\n",
       "    0% {\n",
       "      border-color: transparent;\n",
       "      border-bottom-color: var(--fill-color);\n",
       "      border-left-color: var(--fill-color);\n",
       "    }\n",
       "    20% {\n",
       "      border-color: transparent;\n",
       "      border-left-color: var(--fill-color);\n",
       "      border-top-color: var(--fill-color);\n",
       "    }\n",
       "    30% {\n",
       "      border-color: transparent;\n",
       "      border-left-color: var(--fill-color);\n",
       "      border-top-color: var(--fill-color);\n",
       "      border-right-color: var(--fill-color);\n",
       "    }\n",
       "    40% {\n",
       "      border-color: transparent;\n",
       "      border-right-color: var(--fill-color);\n",
       "      border-top-color: var(--fill-color);\n",
       "    }\n",
       "    60% {\n",
       "      border-color: transparent;\n",
       "      border-right-color: var(--fill-color);\n",
       "    }\n",
       "    80% {\n",
       "      border-color: transparent;\n",
       "      border-right-color: var(--fill-color);\n",
       "      border-bottom-color: var(--fill-color);\n",
       "    }\n",
       "    90% {\n",
       "      border-color: transparent;\n",
       "      border-bottom-color: var(--fill-color);\n",
       "    }\n",
       "  }\n",
       "</style>\n",
       "\n",
       "  <script>\n",
       "    async function quickchart(key) {\n",
       "      const quickchartButtonEl =\n",
       "        document.querySelector('#' + key + ' button');\n",
       "      quickchartButtonEl.disabled = true;  // To prevent multiple clicks.\n",
       "      quickchartButtonEl.classList.add('colab-df-spinner');\n",
       "      try {\n",
       "        const charts = await google.colab.kernel.invokeFunction(\n",
       "            'suggestCharts', [key], {});\n",
       "      } catch (error) {\n",
       "        console.error('Error during call to suggestCharts:', error);\n",
       "      }\n",
       "      quickchartButtonEl.classList.remove('colab-df-spinner');\n",
       "      quickchartButtonEl.classList.add('colab-df-quickchart-complete');\n",
       "    }\n",
       "    (() => {\n",
       "      let quickchartButtonEl =\n",
       "        document.querySelector('#df-b3229b44-c087-4c7f-8355-916b66e999ae button');\n",
       "      quickchartButtonEl.style.display =\n",
       "        google.colab.kernel.accessAllowed ? 'block' : 'none';\n",
       "    })();\n",
       "  </script>\n",
       "</div>\n",
       "\n",
       "  <div id=\"id_45106229-5cb1-4b09-b4ee-1802b2287a97\">\n",
       "    <style>\n",
       "      .colab-df-generate {\n",
       "        background-color: #E8F0FE;\n",
       "        border: none;\n",
       "        border-radius: 50%;\n",
       "        cursor: pointer;\n",
       "        display: none;\n",
       "        fill: #1967D2;\n",
       "        height: 32px;\n",
       "        padding: 0 0 0 0;\n",
       "        width: 32px;\n",
       "      }\n",
       "\n",
       "      .colab-df-generate:hover {\n",
       "        background-color: #E2EBFA;\n",
       "        box-shadow: 0px 1px 2px rgba(60, 64, 67, 0.3), 0px 1px 3px 1px rgba(60, 64, 67, 0.15);\n",
       "        fill: #174EA6;\n",
       "      }\n",
       "\n",
       "      [theme=dark] .colab-df-generate {\n",
       "        background-color: #3B4455;\n",
       "        fill: #D2E3FC;\n",
       "      }\n",
       "\n",
       "      [theme=dark] .colab-df-generate:hover {\n",
       "        background-color: #434B5C;\n",
       "        box-shadow: 0px 1px 3px 1px rgba(0, 0, 0, 0.15);\n",
       "        filter: drop-shadow(0px 1px 2px rgba(0, 0, 0, 0.3));\n",
       "        fill: #FFFFFF;\n",
       "      }\n",
       "    </style>\n",
       "    <button class=\"colab-df-generate\" onclick=\"generateWithVariable('DF_RESULTS')\"\n",
       "            title=\"Generate code using this dataframe.\"\n",
       "            style=\"display:none;\">\n",
       "\n",
       "  <svg xmlns=\"http://www.w3.org/2000/svg\" height=\"24px\"viewBox=\"0 0 24 24\"\n",
       "       width=\"24px\">\n",
       "    <path d=\"M7,19H8.4L18.45,9,17,7.55,7,17.6ZM5,21V16.75L18.45,3.32a2,2,0,0,1,2.83,0l1.4,1.43a1.91,1.91,0,0,1,.58,1.4,1.91,1.91,0,0,1-.58,1.4L9.25,21ZM18.45,9,17,7.55Zm-12,3A5.31,5.31,0,0,0,4.9,8.1,5.31,5.31,0,0,0,1,6.5,5.31,5.31,0,0,0,4.9,4.9,5.31,5.31,0,0,0,6.5,1,5.31,5.31,0,0,0,8.1,4.9,5.31,5.31,0,0,0,12,6.5,5.46,5.46,0,0,0,6.5,12Z\"/>\n",
       "  </svg>\n",
       "    </button>\n",
       "    <script>\n",
       "      (() => {\n",
       "      const buttonEl =\n",
       "        document.querySelector('#id_45106229-5cb1-4b09-b4ee-1802b2287a97 button.colab-df-generate');\n",
       "      buttonEl.style.display =\n",
       "        google.colab.kernel.accessAllowed ? 'block' : 'none';\n",
       "\n",
       "      buttonEl.onclick = () => {\n",
       "        google.colab.notebook.generateWithVariable('DF_RESULTS');\n",
       "      }\n",
       "      })();\n",
       "    </script>\n",
       "  </div>\n",
       "\n",
       "    </div>\n",
       "  </div>\n"
      ],
      "text/plain": [
       "        Loss  Test LOSS  Val LOSS Epoch Model\n",
       "0   0.009209   0.006775  0.007419     1   GNN\n",
       "1   0.004902   0.002467  0.003181     2   GNN\n",
       "2   0.004174   0.002495  0.002876     3   GNN\n",
       "3   0.003584   0.002495  0.003005     4   GNN\n",
       "4   0.003345   0.002495  0.002936     5   GNN\n",
       "..       ...        ...       ...   ...   ...\n",
       "95  0.001061   0.000645  0.000615    96   GNN\n",
       "96  0.000414   0.000645  0.001192    97   GNN\n",
       "97  0.000437   0.000645  0.001394    98   GNN\n",
       "98  0.000297   0.000645  0.000589    99   GNN\n",
       "99  0.000752   0.000645  0.000755   100   GNN\n",
       "\n",
       "[100 rows x 5 columns]"
      ]
     },
     "execution_count": 39,
     "metadata": {},
     "output_type": "execute_result"
    }
   ],
   "source": [
    "DF_RESULTS = pd.concat([DF_RESULTS, df_temp], ignore_index=True)\n",
    "DF_RESULTS"
   ]
  },
  {
   "cell_type": "code",
   "execution_count": 41,
   "id": "t0JOX6FadqkF",
   "metadata": {
    "colab": {
     "base_uri": "https://localhost:8080/",
     "height": 504
    },
    "id": "t0JOX6FadqkF",
    "outputId": "4ff8cfaa-04d9-450a-cd81-1469609bc277"
   },
   "outputs": [
    {
     "data": {
      "image/png": "[encoded data removed]",
      "text/plain": [
       "<Figure size 1000x500 with 1 Axes>"
      ]
     },
     "metadata": {},
     "output_type": "display_data"
    },
    {
     "data": {
      "text/plain": [
       "<Figure size 640x480 with 0 Axes>"
      ]
     },
     "metadata": {},
     "output_type": "display_data"
    }
   ],
   "source": [
    "import matplotlib.pyplot as plt\n",
    "\n",
    "fig = plt.figure(figsize=(10, 5))\n",
    "plt.plot(DF_RESULTS[\"Epoch\"], DF_RESULTS[\"Loss\"], label=\"Train Loss\")\n",
    "plt.plot(DF_RESULTS[\"Epoch\"], DF_RESULTS[\"Val LOSS\"], label=\"Val Loss\")\n",
    "plt.plot(DF_RESULTS[\"Epoch\"], DF_RESULTS[\"Test LOSS\"], label=\"Test Loss\")\n",
    "plt.xlabel(\"Epoch\")\n",
    "plt.ylabel(\"Loss\")\n",
    "plt.title(\"Loss vs Epoch\")\n",
    "plt.legend()\n",
    "plt.show()\n",
    "plt.savefig(\"/content/HAMD_100epochs.png\")"
   ]
  },
  {
   "cell_type": "code",
   "execution_count": 60,
   "id": "JqGCZn_vhgNU",
   "metadata": {
    "id": "JqGCZn_vhgNU"
   },
   "outputs": [],
   "source": [
    "import json\n",
    "\n",
    "DF_RESULTS.to_csv(\"HAMD_RESULTS.csv\")\n",
    "\n",
    "with open('HAMD_RESULT.json', 'w') as fp:\n",
    "    json.dump(RESULTS, fp)"
   ]
  },
  {
   "cell_type": "code",
   "execution_count": 56,
   "id": "FncOpzUSfkxq",
   "metadata": {
    "id": "FncOpzUSfkxq"
   },
   "outputs": [],
   "source": [
    "def predict(model, data):\n",
    "    with torch.no_grad():\n",
    "        logits = model(data)\n",
    "        probs = F.softmax(logits, dim=1)\n",
    "        return torch.argmax(probs, dim=1)"
   ]
  },
  {
   "cell_type": "code",
   "execution_count": 57,
   "id": "YLPNQdMVec69",
   "metadata": {
    "colab": {
     "base_uri": "https://localhost:8080/"
    },
    "id": "YLPNQdMVec69",
    "outputId": "d624869e-2e2d-46c6-e309-8deb9c6701cd"
   },
   "outputs": [
    {
     "name": "stdout",
     "output_type": "stream",
     "text": [
      "tensor([0, 1, 1, 1, 0, 1, 1, 0, 1, 0, 0, 1, 0, 0, 0, 1], device='cuda:0')\n",
      "tensor([0, 1, 1, 1, 0, 1, 1, 0, 1, 0, 0, 1, 0, 0, 0, 1], device='cuda:0')\n"
     ]
    }
   ],
   "source": [
    "for d in test_loader:\n",
    "    d = d.to('cuda:0')\n",
    "    print(predict(model, d))\n",
    "    print(d.y)\n",
    "    break"
   ]
  },
  {
   "cell_type": "code",
   "execution_count": 76,
   "id": "kiTeZK8kl_kJ",
   "metadata": {
    "id": "kiTeZK8kl_kJ"
   },
   "outputs": [],
   "source": [
    "def compare(model, model_name, func, func_name, data, graph):\n",
    "\n",
    "    model_time = 0\n",
    "    func_time = 0\n",
    "\n",
    "    with torch.no_grad():\n",
    "\n",
    "        start = time.time()\n",
    "        prediction = torch.argmax(F.softmax(model(data), dim=1), dim=1)\n",
    "        model_time = time.time() - start\n",
    "\n",
    "    start = time.time()\n",
    "    prediction_func = func(graph)\n",
    "    func_time = time.time() - start\n",
    "\n",
    "    return model_time, func_time, prediction, prediction_func"
   ]
  },
  {
   "cell_type": "code",
   "execution_count": 81,
   "id": "CI3K3Klteu6v",
   "metadata": {
    "colab": {
     "base_uri": "https://localhost:8080/",
     "height": 603
    },
    "id": "CI3K3Klteu6v",
    "outputId": "1813aaf4-e17f-4db4-a234-5b0ae2762507"
   },
   "outputs": [
    {
     "name": "stdout",
     "output_type": "stream",
     "text": [
      "edges: 90\n",
      "predicted that graph has hamiltonian cycle: False\n",
      "comparing times of GNN model and dp function:\n",
      "model name: GNN model_time: 0.004485s model_prediction :tensor([0], device='cuda:0')\n",
      "function name: dp function time: 4.087114s function_prediction :False\n"
     ]
    },
    {
     "data": {
      "image/png": "[encoded data removed]",
      "text/plain": [
       "<Figure size 640x480 with 1 Axes>"
      ]
     },
     "metadata": {},
     "output_type": "display_data"
    }
   ],
   "source": [
    "n = 19\n",
    "if n%2 == 0:\n",
    "    n -= 1\n",
    "k1, k2 = (n+1)//2, (n-1)//2\n",
    "\n",
    "G = create_random_graph_without_hamiltonian_cycle(k1, k2)\n",
    "print(\"edges:\", len(G.edges))\n",
    "x = torch.zeros((n, 1))\n",
    "edge_index = [[], []]\n",
    "edge_attr = []\n",
    "\n",
    "for u, v in G.edges:\n",
    "    x[u] += 1\n",
    "    x[v] += 1\n",
    "    edge_index[0].append(u)\n",
    "    edge_index[1].append(v)\n",
    "    edge_attr.append(torch.randn(edge_dim))\n",
    "\n",
    "for i in range(n):\n",
    "    if x[i] == 0:\n",
    "        edge_index[0].append(i)\n",
    "        edge_index[1].append(i)\n",
    "        edge_attr.append(torch.Tensor(np.random.standard_cauchy(edge_dim)))\n",
    "\n",
    "edge_index = torch.Tensor(edge_index).type(torch.LongTensor)\n",
    "edge_attr = torch.stack(edge_attr)\n",
    "\n",
    "d = Data(x=x, edge_index=edge_index, edge_attr=edge_attr, y=1)\n",
    "d = d.to('cuda:0')\n",
    "nx.draw(G)\n",
    "print(\"predicted that graph has hamiltonian cycle:\", True if predict(model, d).item() == 1 else False)\n",
    "\n",
    "print(f\"comparing times of {model_name} model and dp function:\")\n",
    "\n",
    "model_time, func_time, prediction, prediction_func = compare(model, model_name, hamiltonian_cycle_dynamic_programming, \"dp\", d, G)\n",
    "print(f\"model name: {model_name} model_time: {model_time:.6f}s model_prediction :{prediction}\")\n",
    "print(f\"function name: dp function time: {func_time:.6f}s function_prediction :{prediction_func}\")"
   ]
  },
  {
   "cell_type": "code",
   "execution_count": null,
   "id": "7HcjtsQChRAK",
   "metadata": {
    "id": "7HcjtsQChRAK"
   },
   "outputs": [],
   "source": [
    "model_save_path = \"GNN_HAMD.pth\"\n",
    "\n",
    "torch.save(model.state_dict(), model_save_path)\n",
    "\n",
    "print(f\"Model saved to {model_save_path}\")\n",
    "\n",
    "# model_load_path = \"GNN_HAMD.pth\"\n",
    "\n",
    "# model.load_state_dict(torch.load(model_load_path))\n",
    "\n",
    "# print(f\"Model loaded from {model_load_path}\")"
   ]
  },
  {
   "cell_type": "code",
   "execution_count": null,
   "id": "710c4c69",
   "metadata": {},
   "outputs": [],
   "source": [
    "data_list = []\n",
    "\n",
    "data_list.extend(train_loader)\n",
    "data_list.extend(val_loader)\n",
    "data_list.extend(test_loader)\n",
    "\n",
    "save_path = 'HAMD_data.pth'\n",
    "\n",
    "# Save the list of Data objects\n",
    "torch.save(data_list, save_path)\n",
    "\n",
    "print(f\"Dataset saved to {save_path}\")\n",
    "\n",
    "# load_path = 'path/to/dataset.pth'\n",
    "\n",
    "# # Load the list of Data objects\n",
    "# loaded_data_list = torch.load(load_path)\n",
    "\n",
    "# print(f\"Dataset loaded from {load_path}\")\n"
   ]
  },
  {
   "cell_type": "code",
   "execution_count": null,
   "id": "61ddb6e9-0f15-42d5-b248-7dc9d15c481d",
   "metadata": {},
   "outputs": [],
   "source": [
    "'''\n",
    "Testing out Convolutions working\n",
    "'''"
   ]
  },
  {
   "cell_type": "code",
   "execution_count": 11,
   "id": "ede69992-7417-4948-a9f3-5d9007e323a5",
   "metadata": {},
   "outputs": [],
   "source": [
    "%load_ext autoreload\n",
    "%autoreload 2"
   ]
  },
  {
   "cell_type": "code",
   "execution_count": 12,
   "id": "bf76ba25-a13b-4c00-8f58-c6ed61180292",
   "metadata": {},
   "outputs": [
    {
     "name": "stderr",
     "output_type": "stream",
     "text": [
      "100%|█████| 100/100 [00:00<00:00, 100.06it/s]\n"
     ]
    }
   ],
   "source": [
    "train_loader, val_loader, test_loader = create_graph_dataset(100, 4, 4)"
   ]
  },
  {
   "cell_type": "code",
   "execution_count": 12,
   "id": "40d8d7db-8e96-4073-a1a0-5d3a9a4a7129",
   "metadata": {},
   "outputs": [
    {
     "name": "stdout",
     "output_type": "stream",
     "text": [
      "DataBatch(x=[31, 1], edge_index=[2, 86], edge_attr=[86, 4], y=[4], batch=[31], ptr=[5])\n"
     ]
    }
   ],
   "source": [
    "for d in val_loader:\n",
    "    print(d)\n",
    "    break"
   ]
  },
  {
   "cell_type": "code",
   "execution_count": 16,
   "id": "85552334-e895-450d-90b5-7de742491403",
   "metadata": {},
   "outputs": [],
   "source": [
    "from torch_geometric.nn import Linear\n",
    "lin_in = Linear(1, 32, bias=False)\n",
    "convolution = gConv(32, 64)\n"
   ]
  },
  {
   "cell_type": "code",
   "execution_count": 22,
   "id": "4efa0a0b-271f-47e7-947c-fa8776529064",
   "metadata": {},
   "outputs": [
    {
     "name": "stdout",
     "output_type": "stream",
     "text": [
      "torch.Size([35, 32]) torch.Size([35, 64]) tensor([[0.4973, 0.0000, 0.4604,  ..., 0.0000, 0.6004, 0.0000],\n",
      "        [0.0000, 0.0000, 0.0000,  ..., 0.0000, 0.0000, 0.0000],\n",
      "        [0.6003, 0.0000, 0.5557,  ..., 0.0000, 0.7248, 0.0000],\n",
      "        ...,\n",
      "        [0.9946, 0.0000, 0.9208,  ..., 0.0000, 1.2009, 0.0000],\n",
      "        [0.9946, 0.0000, 0.9208,  ..., 0.0000, 1.2009, 0.0000],\n",
      "        [1.3119, 0.0000, 1.2144,  ..., 0.0000, 1.5839, 0.0000]],\n",
      "       grad_fn=<AddBackward0>)\n"
     ]
    }
   ],
   "source": [
    "for d in val_loader:\n",
    "    x, edge_index, edge_attr = d.x, d.edge_index, d.edge_attr\n",
    "    x = lin_in(x)\n",
    "    out = convolution(x, edge_index)\n",
    "    print(x.shape, out.shape, out)\n",
    "    break"
   ]
  },
  {
   "cell_type": "code",
   "execution_count": 21,
   "id": "af82423f-ae67-4aeb-be73-1d0551a880ef",
   "metadata": {},
   "outputs": [
    {
     "name": "stdout",
     "output_type": "stream",
     "text": [
      "GCN(\n",
      "  (convs): ModuleList(\n",
      "    (0-3): 4 x gConv()\n",
      "  )\n",
      "  (activation): ReLU()\n",
      "  (lin_in): Sequential(\n",
      "    (0): Linear(in_features=1, out_features=50, bias=True)\n",
      "    (1): ReLU()\n",
      "    (2): Linear(in_features=50, out_features=16, bias=True)\n",
      "    (3): ReLU()\n",
      "  )\n",
      "  (lin_pred): Linear(in_features=128, out_features=2, bias=True)\n",
      ")\n"
     ]
    }
   ],
   "source": [
    "gcn_model = GCN([16, 32, 64, 128, 128], 50, 1, 2) \n",
    "print(gcn_model)"
   ]
  },
  {
   "cell_type": "code",
   "execution_count": 18,
   "id": "af1d35b1-b882-472c-b5f5-5565b683f71f",
   "metadata": {},
   "outputs": [
    {
     "data": {
      "text/plain": [
       "28862"
      ]
     },
     "execution_count": 18,
     "metadata": {},
     "output_type": "execute_result"
    }
   ],
   "source": [
    "get_params(gcn_model)"
   ]
  },
  {
   "cell_type": "code",
   "execution_count": 36,
   "id": "0c21ee0d-d268-4008-89a9-734ca360b3e0",
   "metadata": {},
   "outputs": [
    {
     "data": {
      "text/plain": [
       "2112"
      ]
     },
     "execution_count": 36,
     "metadata": {},
     "output_type": "execute_result"
    }
   ],
   "source": [
    "get_params(convolution)"
   ]
  },
  {
   "cell_type": "code",
   "execution_count": 22,
   "id": "f731041c-e461-481d-b9b0-3438048018f8",
   "metadata": {},
   "outputs": [
    {
     "name": "stdout",
     "output_type": "stream",
     "text": [
      "torch.Size([4, 2])\n"
     ]
    }
   ],
   "source": [
    "for d in val_loader:\n",
    "    out = gcn_model(d)\n",
    "    print(out.shape)\n",
    "    break"
   ]
  },
  {
   "cell_type": "code",
   "execution_count": 33,
   "id": "526baaf9-b86a-48f8-af27-9a38682859d9",
   "metadata": {},
   "outputs": [
    {
     "name": "stdout",
     "output_type": "stream",
     "text": [
      "torch.Size([16, 50])\n"
     ]
    }
   ],
   "source": [
    "a, b = torch.randn(16, 50), torch.randn(16, 50)\n",
    "y = a+b\n",
    "print(y.shape)"
   ]
  },
  {
   "cell_type": "code",
   "execution_count": null,
   "id": "cdcea31b-86b5-4f93-88f9-ebaf0f930778",
   "metadata": {},
   "outputs": [],
   "source": []
  }
 ],
 "metadata": {
  "accelerator": "GPU",
  "colab": {
   "gpuType": "T4",
   "provenance": []
  },
  "kernelspec": {
   "display_name": "Python 3 (ipykernel)",
   "language": "python",
   "name": "python3"
  },
  "language_info": {
   "codemirror_mode": {
    "name": "ipython",
    "version": 3
   },
   "file_extension": ".py",
   "mimetype": "text/x-python",
   "name": "python",
   "nbconvert_exporter": "python",
   "pygments_lexer": "ipython3",
   "version": "3.12.3"
  }
 },
 "nbformat": 4,
 "nbformat_minor": 5
}
