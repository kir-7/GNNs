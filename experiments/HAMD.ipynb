{
 "cells": [
  {
   "cell_type": "code",
   "execution_count": 10,
   "id": "96f531f2-ed41-408f-80c5-b39587567dea",
   "metadata": {},
   "outputs": [
    {
     "name": "stdout",
     "output_type": "stream",
     "text": [
      "D:\\ai\\GNN\n"
     ]
    },
    {
     "name": "stderr",
     "output_type": "stream",
     "text": [
      "C:\\Users\\kkire\\anaconda3\\envs\\dl\\Lib\\site-packages\\IPython\\core\\magics\\osm.py:417: UserWarning: This is now an optional IPython functionality, setting dhist requires you to install the `pickleshare` library.\n",
      "  self.shell.db['dhist'] = compress_dhist(dhist)[-100:]\n"
     ]
    }
   ],
   "source": [
    "%cd .."
   ]
  },
  {
   "cell_type": "code",
   "execution_count": 12,
   "id": "c64df3b6-2c2d-4daa-8805-3085dc4c1b3b",
   "metadata": {},
   "outputs": [
    {
     "name": "stdout",
     "output_type": "stream",
     "text": [
      " Volume in drive D is DATA\n",
      " Volume Serial Number is 4096-85EF\n",
      "\n",
      " Directory of D:\\ai\\GNN\n",
      "\n",
      "10-06-2024  12:18    <DIR>          .\n",
      "07-06-2024  23:38    <DIR>          ..\n",
      "10-06-2024  12:26    <DIR>          experiments\n",
      "08-06-2024  18:03                 0 main.py\n",
      "08-06-2024  18:11    <DIR>          models\n",
      "10-06-2024  11:47             2,470 reqirements.txt\n",
      "08-06-2024  23:49    <DIR>          utils\n",
      "               2 File(s)          2,470 bytes\n",
      "               5 Dir(s)  973,255,028,736 bytes free\n"
     ]
    }
   ],
   "source": [
    "%ls"
   ]
  },
  {
   "cell_type": "code",
   "execution_count": 65,
   "id": "fba20b02",
   "metadata": {},
   "outputs": [],
   "source": [
    "import torch\n",
    "from torch import nn\n",
    "from torch.nn import Linear\n",
    "import torch.nn.functional as F\n",
    "from torch_geometric.nn import global_mean_pool\n",
    "from torch_geometric.data import Data, Batch\n",
    "from torch_geometric.loader import DataLoader\n",
    "\n",
    "from models.layers import gLayer\n",
    "from models.model import GNN\n",
    "\n",
    "import numpy as np"
   ]
  },
  {
   "cell_type": "code",
   "execution_count": 92,
   "id": "53435238",
   "metadata": {},
   "outputs": [],
   "source": [
    "\n",
    "class SimpleGNN(nn.Module):\n",
    "    def __init__(self, n_layers=4, emb_dim=50, edge_dim=4, in_dim=10, out_dim=1):\n",
    "\n",
    "        super().__init__()\n",
    "\n",
    "\n",
    "        self.lin_in = Linear(in_dim, emb_dim)   \n",
    "\n",
    "        self.convs = torch.nn.ModuleList()\n",
    "\n",
    "        for i in range(n_layers):\n",
    "            self.convs.append(gLayer(emb_dim, edge_dim))\n",
    "        \n",
    "        self.pool = global_mean_pool\n",
    "        \n",
    "        self.lin_pred = Linear(emb_dim, out_dim)\n",
    "    \n",
    "\n",
    "    def forward(self, data):\n",
    "        \n",
    "        x, edge_index, edge_attr = data.x, data.edge_index, data.edge_attr\n",
    "        \n",
    "        h = self.lin_in(x)\n",
    "        \n",
    "        for conv in self.convs:\n",
    "            h = h + conv(h, edge_index, edge_attr)\n",
    "        \n",
    "        print(h.shape)\n",
    "        h_graph = self.pool(h, data.batch)\n",
    "        \n",
    "        print(h_graph.shape)\n",
    "        \n",
    "        out = self.lin_pred(h_graph)\n",
    "        print(out.shape)\n",
    "        \n",
    "        return out.view(-1)\n"
   ]
  },
  {
   "cell_type": "code",
   "execution_count": 57,
   "id": "ecf6353f-989c-4f09-838a-2dec9d11198b",
   "metadata": {},
   "outputs": [],
   "source": [
    "data_ = {'x':torch.randn(5, 10), 'edge_index':torch.randint(0, 5, (2, 6)), 'edge_attr':torch.randn(6, 4)}"
   ]
  },
  {
   "cell_type": "code",
   "execution_count": 58,
   "id": "2643f07f-13f4-4c4c-960d-e335bb73217e",
   "metadata": {},
   "outputs": [
    {
     "data": {
      "text/plain": [
       "tensor([[[0, 3, 3, 3, 4, 1],\n",
       "         [0, 1, 3, 2, 4, 3]]])"
      ]
     },
     "execution_count": 58,
     "metadata": {},
     "output_type": "execute_result"
    }
   ],
   "source": [
    "data_['x']\n",
    "data_['edge_index'].view(1, 2, 6)\n",
    "# data_['edge_attr']"
   ]
  },
  {
   "cell_type": "code",
   "execution_count": 94,
   "id": "8a1f68c6-3848-4886-be5e-0a864745dba7",
   "metadata": {},
   "outputs": [
    {
     "name": "stdout",
     "output_type": "stream",
     "text": [
      "SimpleGNN\n",
      "SimpleGNN(\n",
      "  (lin_in): Linear(in_features=10, out_features=50, bias=True)\n",
      "  (convs): ModuleList(\n",
      "    (0-3): 4 x gLayer(emb_dim=50, aggr=add)\n",
      "  )\n",
      "  (lin_pred): Linear(in_features=50, out_features=1, bias=True)\n",
      ")\n",
      "Total parameters: 63801\n"
     ]
    }
   ],
   "source": [
    "model = SimpleGNN()\n",
    "\n",
    "print(type(model).__name__)\n",
    "print(model)\n",
    "\n",
    "total_param = 0\n",
    "for param in model.parameters():\n",
    "    total_param += np.prod(list(param.data.size()))\n",
    "print(f'Total parameters: {total_param}')"
   ]
  },
  {
   "cell_type": "code",
   "execution_count": 78,
   "id": "6e5f8307-2a51-4582-89ae-475671f07c6a",
   "metadata": {},
   "outputs": [],
   "source": [
    "data = Data(x=data_['x'], edge_index=data_['edge_index'], edge_attr=data_['edge_attr'])\n",
    "\n",
    "# Create a DataLoader\n",
    "data_list = [data] * 10  # Creating multiple copies to simulate a dataset\n",
    "dataloader = DataLoader(data_list, batch_size=4, shuffle=True)"
   ]
  },
  {
   "cell_type": "code",
   "execution_count": 79,
   "id": "4368642d-c284-4617-9c02-e2be5ad3962b",
   "metadata": {},
   "outputs": [
    {
     "name": "stdout",
     "output_type": "stream",
     "text": [
      "Data(x=[5, 10], edge_index=[2, 6], edge_attr=[6, 4])\n"
     ]
    }
   ],
   "source": [
    "it = iter(dataloader)\n",
    "b1, b2 = next(it), next(it)\n",
    "print(b1[0])"
   ]
  },
  {
   "cell_type": "code",
   "execution_count": 90,
   "id": "c2dce964-3306-4e88-b298-111d14d7aa97",
   "metadata": {},
   "outputs": [
    {
     "name": "stdout",
     "output_type": "stream",
     "text": [
      "DataBatch(x=[20, 10], edge_index=[2, 24], edge_attr=[24, 4], batch=[20], ptr=[5])\n"
     ]
    }
   ],
   "source": [
    "print(b1)"
   ]
  },
  {
   "cell_type": "code",
   "execution_count": 96,
   "id": "9fa73a5c-6f37-4738-8ae0-1843504cca51",
   "metadata": {},
   "outputs": [
    {
     "name": "stdout",
     "output_type": "stream",
     "text": [
      "DataBatch(x=[20, 10], edge_index=[2, 24], edge_attr=[24, 4], batch=[20], ptr=[5])\n",
      "torch.Size([20, 50])\n",
      "torch.Size([4, 50])\n",
      "torch.Size([4, 1])\n"
     ]
    }
   ],
   "source": [
    "for d in dataloader:\n",
    "    print(d)\n",
    "    output = model(d)\n",
    "    break"
   ]
  },
  {
   "cell_type": "code",
   "execution_count": 97,
   "id": "b2c7b7da-436a-4d98-9b34-4d5f5e398cc3",
   "metadata": {},
   "outputs": [
    {
     "name": "stdout",
     "output_type": "stream",
     "text": [
      "tensor([-1.8825, -1.8825, -1.8825, -1.8825], grad_fn=<ViewBackward0>)\n"
     ]
    }
   ],
   "source": [
    "print(output)"
   ]
  },
  {
   "cell_type": "code",
   "execution_count": null,
   "id": "ac6f4dff-d308-4faa-b144-16071a61c987",
   "metadata": {},
   "outputs": [],
   "source": []
  }
 ],
 "metadata": {
  "kernelspec": {
   "display_name": "Python 3 (ipykernel)",
   "language": "python",
   "name": "python3"
  },
  "language_info": {
   "codemirror_mode": {
    "name": "ipython",
    "version": 3
   },
   "file_extension": ".py",
   "mimetype": "text/x-python",
   "name": "python",
   "nbconvert_exporter": "python",
   "pygments_lexer": "ipython3",
   "version": "3.12.3"
  }
 },
 "nbformat": 4,
 "nbformat_minor": 5
}
