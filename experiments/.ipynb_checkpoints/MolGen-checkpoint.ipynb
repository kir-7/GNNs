{
 "cells": [
  {
   "cell_type": "code",
   "execution_count": null,
   "id": "0a8ff77d-9dc0-488b-a615-4379df138abb",
   "metadata": {},
   "outputs": [],
   "source": [
    "'''\n",
    "    Here the goal is generte new molecules using GNNs. I will be trying different Graph architechtures as well as different approches \n",
    "    (auto regresssion, xavier bressson, GAN) ultimately the idea is to improve the GNN directory more (creating more layers etc) as well as learn more\n",
    "    about GNNs so that after multiple application I can come up with a new model/layer myself. \n",
    "\n",
    "    Will use the ZINC and OM9 dataset hopefully benchmark them to produce better results than already existing methods.\n",
    "        \n",
    "'''"
   ]
  },
  {
   "cell_type": "code",
   "execution_count": 1,
   "id": "06f99b19-5a8a-458f-af68-f434181f5182",
   "metadata": {},
   "outputs": [
    {
     "name": "stdout",
     "output_type": "stream",
     "text": [
      "D:\\ai\\GNN\n"
     ]
    },
    {
     "name": "stderr",
     "output_type": "stream",
     "text": [
      "C:\\Users\\kkire\\anaconda3\\envs\\dl\\Lib\\site-packages\\IPython\\core\\magics\\osm.py:417: UserWarning: This is now an optional IPython functionality, setting dhist requires you to install the `pickleshare` library.\n",
      "  self.shell.db['dhist'] = compress_dhist(dhist)[-100:]\n"
     ]
    }
   ],
   "source": [
    "%cd .."
   ]
  },
  {
   "cell_type": "code",
   "execution_count": 2,
   "id": "8dd406d9-d395-497d-90fd-f319a1bf5f4a",
   "metadata": {},
   "outputs": [
    {
     "data": {
      "text/plain": [
       "'D:\\\\ai\\\\GNN'"
      ]
     },
     "execution_count": 2,
     "metadata": {},
     "output_type": "execute_result"
    }
   ],
   "source": [
    "%pwd"
   ]
  },
  {
   "cell_type": "code",
   "execution_count": 3,
   "id": "cd682f4b-c56b-4c9e-9fc0-350c7ca8c632",
   "metadata": {},
   "outputs": [
    {
     "name": "stdout",
     "output_type": "stream",
     "text": [
      "PyTorch version 2.3.1\n",
      "PyG version 2.5.3\n"
     ]
    }
   ],
   "source": [
    "import torch\n",
    "import torch.functional as F\n",
    "import torch.nn as nn\n",
    "from torch.nn import ReLU, SiLU, Sigmoid, Sequential, LayerNorm, BatchNorm1d, Parameter\n",
    "\n",
    "import torch_geometric\n",
    "import torch_geometric.transforms as T \n",
    "from torch_geometric.nn import MessagePassing, Linear, global_mean_pool\n",
    "from torch_geometric.nn.inits import zeros, glorot, reset\n",
    "from torch_geometric.data import  Data, Batch\n",
    "from torch_geometric.loader import DataLoader\n",
    "from torch_geometric.datasets import ZINC, QM9\n",
    "from torch_geometric.utils import remove_self_loops\n",
    "\n",
    "import rdkit.Chem as Chem\n",
    "from rdkit.Geometry.rdGeometry import Point3D\n",
    "from rdkit.Chem import QED, Crippen, rdMolDescriptors, rdmolops\n",
    "from rdkit.Chem.Draw import IPythonConsole\n",
    "\n",
    "from models.layers import GATConv, gConv, ChebConv, GIN\n",
    "\n",
    "# import huggingface\n",
    "import numpy as np\n",
    "import os\n",
    "import time\n",
    "import tqdm\n",
    "\n",
    "\n",
    "print(\"PyTorch version {}\".format(torch.__version__))\n",
    "print(\"PyG version {}\".format(torch_geometric.__version__))"
   ]
  },
  {
   "cell_type": "code",
   "execution_count": 4,
   "id": "cb57d63c-1264-40f5-aeac-a76b037c4904",
   "metadata": {},
   "outputs": [],
   "source": [
    "class SetTarget(object):\n",
    "    \"\"\"\n",
    "    This transform mofifies the labels vector per data sample to only keep \n",
    "    the label for a specific target (there are 19 targets in QM9).\n",
    "\n",
    "    Note: for this practical, we have hardcoded the target to be target #0,\n",
    "    i.e. the electric dipole moment of a drug-like molecule.\n",
    "    (https://en.wikipedia.org/wiki/Electric_dipole_moment)\n",
    "    \"\"\"\n",
    "    def __call__(self, data):\n",
    "        target = 0 # we hardcoded choice of target  \n",
    "        data.y = data.y[:, target]\n",
    "        return data\n",
    "        \n",
    "class CompleteGraph(object):\n",
    "    \"\"\"\n",
    "    This transform adds all pairwise edges into the edge index per data sample, \n",
    "    then removes self loops, i.e. it builds a fully connected or complete graph\n",
    "    \"\"\"\n",
    "    def __call__(self, data):\n",
    "        device = data.edge_index.device\n",
    "\n",
    "        row = torch.arange(data.num_nodes, dtype=torch.long, device=device)\n",
    "        col = torch.arange(data.num_nodes, dtype=torch.long, device=device)\n",
    "\n",
    "        row = row.view(-1, 1).repeat(1, data.num_nodes).view(-1)\n",
    "        col = col.repeat(data.num_nodes)\n",
    "        edge_index = torch.stack([row, col], dim=0)\n",
    "\n",
    "        edge_attr = None\n",
    "        if data.edge_attr is not None:\n",
    "            idx = data.edge_index[0] * data.num_nodes + data.edge_index[1]\n",
    "            size = list(data.edge_attr.size())\n",
    "            size[0] = data.num_nodes * data.num_nodes\n",
    "            edge_attr = data.edge_attr.new_zeros(size)\n",
    "            edge_attr[idx] = data.edge_attr\n",
    "\n",
    "        edge_index, edge_attr = remove_self_loops(edge_index, edge_attr)\n",
    "        data.edge_attr = edge_attr\n",
    "        data.edge_index = edge_index\n",
    "\n",
    "        return data"
   ]
  },
  {
   "cell_type": "code",
   "execution_count": 5,
   "id": "9c919ffe-17cf-4980-aaaf-78a80f81733b",
   "metadata": {},
   "outputs": [],
   "source": [
    "allowable_atoms = [\n",
    "    \"H\",\n",
    "    \"C\",\n",
    "    \"N\",\n",
    "    \"O\",\n",
    "    \"F\",\n",
    "    \"C\",\n",
    "    \"Cl\",\n",
    "    \"Br\",\n",
    "    \"I\",\n",
    "    \"H\", \n",
    "    \"Unknown\",\n",
    "]\n",
    "\n",
    "def to_atom(t):\n",
    "    try:\n",
    "        return allowable_atoms[int(t.argmax())]\n",
    "    except:\n",
    "        return \"C\"\n",
    "\n",
    "\n",
    "def to_bond_index(t):\n",
    "    t_s = t.squeeze()\n",
    "    return [1, 2, 3, 4][\n",
    "        int(\n",
    "            torch.dot(\n",
    "                t_s,\n",
    "                torch.tensor(\n",
    "                    range(t_s.size()[0]), dtype=torch.float, device=t.device\n",
    "                ),\n",
    "            ).item()\n",
    "        )\n",
    "    ]\n",
    "\n",
    "def to_rdkit(data, device=None):\n",
    "    has_pos = False\n",
    "    node_list = []\n",
    "    for i in range(data.x.size()[0]):\n",
    "        node_list.append(to_atom(data.x[i][:5]))\n",
    "\n",
    "    # create empty editable mol object\n",
    "    mol = Chem.RWMol()\n",
    "    # add atoms to mol and keep track of index\n",
    "    node_to_idx = {}\n",
    "    invalid_idx = set([])\n",
    "    for i in range(len(node_list)):\n",
    "        if node_list[i] == \"Stop\" or node_list[i] == \"H\":\n",
    "            invalid_idx.add(i)\n",
    "            continue\n",
    "        a = Chem.Atom(node_list[i])\n",
    "        molIdx = mol.AddAtom(a)\n",
    "        node_to_idx[i] = molIdx\n",
    "\n",
    "    added_bonds = set([])\n",
    "    for i in range(0, data.edge_index.size()[1]):\n",
    "        ix = data.edge_index[0][i].item()\n",
    "        iy = data.edge_index[1][i].item()\n",
    "        bond = to_bond_index(data.edge_attr[i])  # <font color='red'>TODO</font> fix this\n",
    "        # bond = 1\n",
    "        # add bonds between adjacent atoms\n",
    "\n",
    "        if data.edge_attr[i].sum() == 0:\n",
    "          continue\n",
    "\n",
    "        if (\n",
    "            (str((ix, iy)) in added_bonds)\n",
    "            or (str((iy, ix)) in added_bonds)\n",
    "            or (iy in invalid_idx or ix in invalid_idx)\n",
    "        ):\n",
    "            continue\n",
    "        # add relevant bond type (there are many more of these)\n",
    "\n",
    "        if bond == 0:\n",
    "            continue\n",
    "        elif bond == 1:\n",
    "            bond_type = Chem.rdchem.BondType.SINGLE\n",
    "            mol.AddBond(node_to_idx[ix], node_to_idx[iy], bond_type)\n",
    "        elif bond == 2:\n",
    "            bond_type = Chem.rdchem.BondType.DOUBLE\n",
    "            mol.AddBond(node_to_idx[ix], node_to_idx[iy], bond_type)\n",
    "        elif bond == 3:\n",
    "            bond_type = Chem.rdchem.BondType.TRIPLE\n",
    "            mol.AddBond(node_to_idx[ix], node_to_idx[iy], bond_type)\n",
    "        elif bond == 4:\n",
    "            bond_type = Chem.rdchem.BondType.SINGLE\n",
    "            mol.AddBond(node_to_idx[ix], node_to_idx[iy], bond_type)\n",
    "\n",
    "        added_bonds.add(str((ix, iy)))\n",
    "\n",
    "    if has_pos:\n",
    "        conf = Chem.Conformer(mol.GetNumAtoms())\n",
    "        for i in range(data.pos.size(0)):\n",
    "            if i in invalid_idx:\n",
    "                continue\n",
    "            p = Point3D(\n",
    "                data.pos[i][0].item(),\n",
    "                data.pos[i][1].item(),\n",
    "                data.pos[i][2].item(),\n",
    "            )\n",
    "            conf.SetAtomPosition(node_to_idx[i], p)\n",
    "        conf.SetId(0)\n",
    "        mol.AddConformer(conf)\n",
    "\n",
    "    # Convert RWMol to Mol object\n",
    "    mol = mol.GetMol()\n",
    "    mol_frags = rdmolops.GetMolFrags(mol, asMols=True, sanitizeFrags=False)\n",
    "    largest_mol = max(mol_frags, default=mol, key=lambda m: m.GetNumAtoms())\n",
    "    return largest_mol\n",
    "\n",
    "\n",
    "def MolTo3DView(mol, size=(300, 300), style=\"stick\", surface=False, opacity=0.5):\n",
    "    \"\"\"Draw molecule in 3D\n",
    "    \n",
    "    Args:\n",
    "    ----\n",
    "        mol: rdMol, molecule to show\n",
    "        size: tuple(int, int), canvas size\n",
    "        style: str, type of drawing molecule\n",
    "               style can be 'line', 'stick', 'sphere', 'carton'\n",
    "        surface, bool, display SAS\n",
    "        opacity, float, opacity of surface, range 0.0-1.0\n",
    "    Return:\n",
    "    ----\n",
    "        viewer: py3Dmol.view, a class for constructing embedded 3Dmol.js views in ipython notebooks.\n",
    "    \"\"\"\n",
    "    assert style in ('line', 'stick', 'sphere', 'carton')\n",
    "\n",
    "    mol = Chem.AddHs(mol)\n",
    "    AllChem.EmbedMolecule(mol)\n",
    "    AllChem.MMFFOptimizeMolecule(mol, maxIters=200)\n",
    "    mblock = Chem.MolToMolBlock(mol)\n",
    "    viewer = py3Dmol.view(width=size[0], height=size[1])\n",
    "    viewer.addModel(mblock, 'mol')\n",
    "    viewer.setStyle({style:{}})\n",
    "    if surface:\n",
    "        viewer.addSurface(py3Dmol.SAS, {'opacity': opacity})\n",
    "    viewer.zoomTo()\n",
    "    return viewer\n",
    "\n",
    "def smi2conf(smiles):\n",
    "    '''Convert SMILES to rdkit.Mol with 3D coordinates'''\n",
    "    mol = Chem.MolFromSmiles(smiles)\n",
    "    if mol is not None:\n",
    "        mol = Chem.AddHs(mol)\n",
    "        AllChem.EmbedMolecule(mol)\n",
    "        AllChem.MMFFOptimizeMolecule(mol, maxIters=200)\n",
    "        return mol\n",
    "    else:\n",
    "        return None"
   ]
  },
  {
   "cell_type": "code",
   "execution_count": 6,
   "id": "3784b122-2486-4880-bbb5-d8ad9eade1d2",
   "metadata": {},
   "outputs": [],
   "source": [
    "path = './experiments/qm9'\n",
    "dataset = QM9(path)"
   ]
  },
  {
   "cell_type": "code",
   "execution_count": 7,
   "id": "c071267a-be7b-4d26-9f88-7aeff09686a3",
   "metadata": {},
   "outputs": [],
   "source": [
    "transform = T.Compose([CompleteGraph(), SetTarget()])\n",
    "dataset.transform = transform"
   ]
  },
  {
   "cell_type": "code",
   "execution_count": 8,
   "id": "067391b3-c197-46d5-8a4c-71c2a0cf2c01",
   "metadata": {},
   "outputs": [
    {
     "name": "stdout",
     "output_type": "stream",
     "text": [
      "Total number of samples: 130831.\n",
      "Created dataset splits with 1000 training, 1000 validation, 1000 test samples.\n"
     ]
    },
    {
     "name": "stderr",
     "output_type": "stream",
     "text": [
      "C:\\Users\\kkire\\anaconda3\\envs\\dl\\Lib\\site-packages\\torch_geometric\\data\\in_memory_dataset.py:300: UserWarning: It is not recommended to directly access the internal storage format `data` of an 'InMemoryDataset'. If you are absolutely certain what you are doing, access the internal storage via `InMemoryDataset._data` instead to suppress this warning. Alternatively, you can access stacked individual attributes of every graph via `dataset.{attr_name}`.\n",
      "  warnings.warn(msg)\n"
     ]
    }
   ],
   "source": [
    "target = 0\n",
    "# Normalize targets per data sample to mean = 0 and std = 1.\n",
    "mean = dataset.data.y.mean(dim=0, keepdim=True)\n",
    "std = dataset.data.y.std(dim=0, keepdim=True)\n",
    "dataset.data.y = (dataset.data.y - mean) / std\n",
    "mean, std = mean[:, target].item(), std[:, target].item()\n",
    "print(f\"Total number of samples: {len(dataset)}.\")\n",
    "\n",
    "# Split datasets (in case of using the full dataset)\n",
    "# test_dataset = dataset[:10000]\n",
    "# val_dataset = dataset[10000:20000]\n",
    "# train_dataset = dataset[20000:]\n",
    "\n",
    "# Split datasets (our 3K subset)\n",
    "train_dataset = dataset[:1000]\n",
    "val_dataset = dataset[1000:2000]\n",
    "test_dataset = dataset[2000:3000]\n",
    "print(f\"Created dataset splits with {len(train_dataset)} training, {len(val_dataset)} validation, {len(test_dataset)} test samples.\")\n",
    "\n",
    "# Create dataloaders with batch size = 32\n",
    "train_loader = DataLoader(train_dataset, batch_size=32, shuffle=True)\n",
    "val_loader = DataLoader(val_dataset, batch_size=32, shuffle=False)\n",
    "test_loader = DataLoader(test_dataset, batch_size=32, shuffle=False)"
   ]
  },
  {
   "cell_type": "code",
   "execution_count": 9,
   "id": "719dcb89-aa09-44bf-811b-07fa10e8b1d0",
   "metadata": {},
   "outputs": [
    {
     "data": {
      "image/png": "[encoded data removed]",
      "text/plain": [
       "<IPython.core.display.Image object>"
      ]
     },
     "execution_count": 9,
     "metadata": {},
     "output_type": "execute_result"
    }
   ],
   "source": [
    "num_viz = 1\n",
    "mols = [to_rdkit(val_dataset[i]) for i in range(num_viz)]\n",
    "values = [str(round(float(val_dataset[i].y), 3)) for i in range(num_viz)]\n",
    "\n",
    "Chem.Draw.MolsToGridImage(mols, legends=[f\"y = {value}\" for value in values], molsPerRow=5)"
   ]
  },
  {
   "cell_type": "code",
   "execution_count": null,
   "id": "5b6c9551-c2bc-4c77-a305-48eedd30a6ce",
   "metadata": {},
   "outputs": [],
   "source": [
    "'''\n",
    "    Methond 1 : https://arxiv.org/pdf/1906.03412 : Xavier bresson's method of 2 step decoder and beam search\n",
    "'''"
   ]
  },
  {
   "cell_type": "code",
   "execution_count": 10,
   "id": "3790a40b-23a6-408e-8e03-2eca4d32ab59",
   "metadata": {},
   "outputs": [],
   "source": [
    "%load_ext autoreload\n",
    "%autoreload 2"
   ]
  },
  {
   "cell_type": "code",
   "execution_count": 11,
   "id": "9f8d997d-675f-43b8-9a53-8e7bb5cda43a",
   "metadata": {},
   "outputs": [],
   "source": [
    "def get_params(model : nn.Module):\n",
    "\n",
    "    total_param = 0\n",
    "    for param in model.parameters():\n",
    "        total_param += np.prod(list(param.data.size()))\n",
    "\n",
    "    return total_param"
   ]
  },
  {
   "cell_type": "code",
   "execution_count": 39,
   "id": "c6930b08-025b-4f45-8d94-237a0bcdd584",
   "metadata": {},
   "outputs": [
    {
     "name": "stderr",
     "output_type": "stream",
     "text": [
      "100%|█| 130831/130831 [01:11<00:00, 1822.99i"
     ]
    },
    {
     "name": "stdout",
     "output_type": "stream",
     "text": [
      "29\n"
     ]
    },
    {
     "name": "stderr",
     "output_type": "stream",
     "text": [
      "\n"
     ]
    }
   ],
   "source": [
    "r = 0\n",
    "for d in tqdm.tqdm(dataset):\n",
    "     r = max(r, d.x.size()[0])\n",
    "print(r)"
   ]
  },
  {
   "cell_type": "code",
   "execution_count": 12,
   "id": "3f6492db-cea4-4aad-94d7-3d40b9dd47c3",
   "metadata": {},
   "outputs": [],
   "source": [
    "class GraphEncoder(MessagePassing):\n",
    "\n",
    "    def __init__(self, filters : list, emb_dim, edge_dim, node_in_dim, edge_in_dim, latent_dim, mu=0, sigma=1.0, activation='relu', norm='batch', add_self_loops=False):\n",
    "\n",
    "        super().__init__()\n",
    "        \n",
    "        self.emb_dim = emb_dim\n",
    "        self.edge_dim = edge_dim\n",
    "        self.node_in_dim = node_in_dim\n",
    "        self.edge_in_dim = edge_in_dim\n",
    "        self.latent_dim = latent_dim\n",
    "        \n",
    "        self.mu = mu\n",
    "        self.sigma = sigma\n",
    "\n",
    "        self.activation = self.activation = {\"silu\": SiLU(), \"relu\": ReLU(), 'sigmoid':Sigmoid()}[activation]\n",
    "        self.norm = {\"layer\": LayerNorm, \"batch\": BatchNorm1d}[norm]\n",
    "        \n",
    "        \n",
    "        self.gate_activation = Sigmoid()\n",
    "\n",
    "        self.node_lin_in = Linear(node_in_dim, emb_dim, bias=False, weight_initializer='glorot')\n",
    "        self.edge_lin_in = Linear(edge_in_dim, edge_dim, bias=False, weight_initializer='glorot')\n",
    "\n",
    "        self.filters = [emb_dim] + filters\n",
    "                \n",
    "        self.convs = nn.ModuleList()\n",
    "        \n",
    "        for i in range(len(self.filters)-1):\n",
    "            self.convs.append(GATConv(self.filters[i], self.filters[i+1], edge_dim=edge_dim, add_self_loops=add_self_loops, update_edges=True))\n",
    "\n",
    "        self.phi_1 = Linear(self.filters[-1], self.latent_dim, bias=False, weight_initializer='glorot')\n",
    "        self.phi_2 = Linear(self.filters[-1], self.latent_dim, bias=False, weight_initializer='glorot')\n",
    "        self.phi_3 = Linear(self.edge_dim, self.latent_dim, bias=False, weight_initializer='glorot')\n",
    "        self.phi_4 = Linear(self.edge_dim, self.latent_dim, bias=False, weight_initializer='glorot')\n",
    "        \n",
    "        \n",
    "    def forward(self, x, edge_index, edge_attr, batch):\n",
    "\n",
    "        x = self.node_lin_in(x)\n",
    "        edge_attr = self.edge_lin_in(edge_attr)\n",
    "        \n",
    "        for i in range(len(self.convs)): \n",
    "            x, edge_attr = self.convs[i](x, edge_index, edge_attr)\n",
    "            \n",
    "            x = self.norm(self.filters[i+1])(x)\n",
    "            x = self.activation(x)\n",
    "            \n",
    "            edge_attr = self.norm(self.edge_dim)(edge_attr)\n",
    "            edge_attr = self.activation(edge_attr)\n",
    "\n",
    "        out = self.edge_updater(edge_index, x=x, edge_attr=edge_attr)\n",
    "        \n",
    "\n",
    "        out = torch_geometric.nn.global_add_pool(out, batch)\n",
    "        \n",
    "        return out\n",
    "    \n",
    "    def edge_update(self, x_i, x_j, edge_attr):\n",
    "        \n",
    "        out = self.phi_1(x_i) + self.phi_2(x_j) + self.phi_3(edge_attr)\n",
    "        out = self.gate_activation(out)\n",
    "        out = out * self.phi_4(edge_attr) \n",
    "\n",
    "        return out\n",
    "    "
   ]
  },
  {
   "cell_type": "code",
   "execution_count": 19,
   "id": "2e9257f3-6efc-47b6-b0ed-5574f9191eaa",
   "metadata": {},
   "outputs": [],
   "source": [
    "class GraphDecoder(MessagePassing):\n",
    "    def __init__(self, filters : list, latent_dim, M, R, emb_dim, edge_dim, add_self_loops=False):\n",
    "        \n",
    "        super().__init__()\n",
    "        \n",
    "        self.latent_dim = latent_dim\n",
    "        self.M = M\n",
    "        self.R = R\n",
    "        self.emb_dim = emb_dim\n",
    "        self.edge_dim = edge_dim\n",
    "        self.filters = filters\n",
    "\n",
    "        self.mlp = Sequential(\n",
    "            Linear(self.latent_dim, 512, bias=True, weight_initializer='glorot'),\n",
    "            ReLU(),\n",
    "            Linear(512, 512, bias=True, weight_initializer='glorot'),\n",
    "            ReLU(),\n",
    "            Linear(512, 256, bias=True, weight_initializer='glorot'),\n",
    "            ReLU(),\n",
    "            Linear(256, self.M * self.R, bias=True, weight_initializer='glorot')\n",
    "        )\n",
    "\n",
    "        self.convs = nn.ModuleList()\n",
    "        for i in range(len(self.filters)-1):\n",
    "            self.convs.append(GATConv(filters[i], filters[i+1], edge_dim=self.edge_dim, add_self_loops=add_self_loops, update_edges=True))\n",
    "        \n",
    "        self.edge_mlp = Sequential(\n",
    "                Linear(self.edge_dim, 128),\n",
    "                ReLU(),\n",
    "                Linear(128, 64),\n",
    "                ReLU(),\n",
    "                Linear(64, 16),\n",
    "                ReLU(),\n",
    "                Linear(16, 4)\n",
    "        )\n",
    "\n",
    "        self.lin_in_node = Linear(11, self.filters[0], bias=False, weight_initializer='glorot')\n",
    "        self.lin_in_edge = Linear(self.latent_dim, self.edge_dim)\n",
    "        \n",
    "    \n",
    "    def forward(self, z):\n",
    "\n",
    "        out = self.mlp(z)\n",
    "        out = out.view(-1, self.M, self.R)\n",
    "        out = torch.nn.functional.softmax(out, dim=2)\n",
    "        z_boa = torch.max(out, dim=2).indices\n",
    "\n",
    "        x, edge_index, edge_attr = construct_graph(z_boa)\n",
    "\n",
    "        \n",
    "        x = self.lin_in_node(x)\n",
    "        edge_attr = self.lin_i_edge(edge_attr)\n",
    "\n",
    "        for i in range(len(self.convs)):\n",
    "            x, edge_attr = self.convs[i](x, edge_index, edge_attr)\n",
    "\n",
    "        edge_attr = self.edge_mlp(edge_attr)\n",
    "\n",
    "        return edge_attr\n",
    "\n",
    "    \n",
    "    def construct_graph(self, z_boa):\n",
    "        \n",
    "        x = torch.zeros(torch.sum(z_boa).item(), 11)\n",
    "        edge_index = [[], []]\n",
    "        edge_attr = []\n",
    "\n",
    "        ### need to implement construct_graph function returns x, edge_index, edge_attr\n",
    "\n",
    "        return x, edge_index, edge_attr        \n",
    "\n"
   ]
  },
  {
   "cell_type": "code",
   "execution_count": 20,
   "id": "9e04e8b8-b2d5-42ec-9c4c-8f6862e6a7eb",
   "metadata": {},
   "outputs": [
    {
     "name": "stdout",
     "output_type": "stream",
     "text": [
      "number of paramerters for GraphEncoder: 340592\n",
      "torch.Size([32, 512])\n",
      "torch.Size([32, 10])\n"
     ]
    }
   ],
   "source": [
    "ge = GraphEncoder([32, 64, 128, 256], 16, 16, 11, 4, 512)\n",
    "gd = GraphDecoder([256, 128, 64, 32], 512, 10, 29, 32, 32)\n",
    "print(\"number of paramerters for GraphEncoder:\",  get_params(ge))\n",
    "\n",
    "with torch.no_grad():\n",
    "    for d in val_loader:\n",
    "        x = ge(d.x, d.edge_index, d.edge_attr, d.batch[d.edge_index[0]])\n",
    "        print(x.shape)\n",
    "        out = gd(x)\n",
    "        print(out.shape)\n",
    "        break"
   ]
  },
  {
   "cell_type": "code",
   "execution_count": 28,
   "id": "cda7fd0d-19b0-465c-b87d-77760f61cddf",
   "metadata": {},
   "outputs": [
    {
     "name": "stdout",
     "output_type": "stream",
     "text": [
      "tensor([[ 5,  4, 15, 17, 19,  5, 26, 26,  5, 28],\n",
      "        [ 5, 11, 26, 17, 16,  2, 26, 26,  5,  0],\n",
      "        [ 5,  4, 15, 17, 19,  5, 26, 26,  5, 28],\n",
      "        [ 5, 11, 26, 17, 16,  2, 26, 26,  5,  0],\n",
      "        [ 5,  9, 15, 13, 16,  5, 26, 26, 18,  0],\n",
      "        [ 5,  4, 15, 17, 19,  5, 26, 26,  5, 28],\n",
      "        [ 8, 22, 26, 13, 12,  2, 22, 26,  5,  0],\n",
      "        [ 5, 11, 26, 17, 16,  2, 26, 26,  5,  0],\n",
      "        [ 5,  9, 15, 13, 16,  5, 26, 26, 18,  0],\n",
      "        [ 5,  4, 15, 17, 19,  5, 26, 26,  5, 28],\n",
      "        [ 5,  9, 24, 24, 24,  2, 26, 26,  5,  0],\n",
      "        [ 5,  4, 15, 17, 19,  2, 26, 26,  5,  0],\n",
      "        [ 8, 22, 10,  5, 18, 23, 26, 26,  1, 11],\n",
      "        [16,  4, 22,  5, 18, 25, 26, 26,  5,  0],\n",
      "        [10, 14, 26, 17, 18, 26, 17, 26,  5,  0],\n",
      "        [ 8,  4, 15, 16,  2, 23, 26, 26, 18, 11],\n",
      "        [10, 14, 26, 17, 18, 26, 17, 26,  5,  0],\n",
      "        [ 8,  4, 15, 16,  2, 23, 26, 26, 18, 11],\n",
      "        [10, 14, 26, 17, 18,  2, 17, 26,  5,  0],\n",
      "        [ 5,  9, 24, 24, 24,  2, 26, 26,  5,  0],\n",
      "        [ 5,  9, 24, 24, 24,  2, 26, 26,  5,  0],\n",
      "        [10, 14, 26, 17, 18,  2, 17, 26,  5,  0],\n",
      "        [ 5,  4, 15, 17, 18,  2, 26, 26,  5,  0],\n",
      "        [ 5,  9, 24, 24, 24,  2, 26, 26,  5,  0],\n",
      "        [ 5,  4, 15, 17, 19,  2, 26, 26,  5,  0],\n",
      "        [ 5,  9, 24, 24, 24,  2, 26, 26,  5,  0],\n",
      "        [ 5,  4, 15, 17, 19,  2, 26, 26,  5,  0],\n",
      "        [ 5,  9, 24, 24, 24,  2, 26, 16,  5,  0],\n",
      "        [10, 14, 26, 17,  3, 26, 17, 26,  5,  0],\n",
      "        [ 5,  4, 15, 17, 18,  2, 26, 26,  5,  0],\n",
      "        [ 5,  9, 24, 17, 24,  2, 26, 26,  5,  0],\n",
      "        [ 5,  4, 15, 17, 17,  2, 26, 26,  5,  0]])\n",
      "tensor(4439)\n"
     ]
    }
   ],
   "source": [
    "print(out)\n",
    "print(torch.sum(out))"
   ]
  },
  {
   "cell_type": "code",
   "execution_count": 39,
   "id": "88f4bed0-a5c8-45dc-9979-94af4eb23813",
   "metadata": {},
   "outputs": [
    {
     "name": "stdout",
     "output_type": "stream",
     "text": [
      "846806\n"
     ]
    }
   ],
   "source": [
    "print(get_params(gd))"
   ]
  },
  {
   "cell_type": "code",
   "execution_count": 36,
   "id": "20160d1f-ffde-446c-b822-2821a6e6133d",
   "metadata": {},
   "outputs": [
    {
     "name": "stdout",
     "output_type": "stream",
     "text": [
      "tensor([0., 1., 0., 0., 0., 6., 0., 0., 0., 0., 4.])\n"
     ]
    }
   ],
   "source": [
    "print(dataset.data.x)"
   ]
  },
  {
   "cell_type": "code",
   "execution_count": null,
   "id": "141bb676-5ab6-4bd1-a514-f249e123d5e3",
   "metadata": {},
   "outputs": [],
   "source": []
  }
 ],
 "metadata": {
  "kernelspec": {
   "display_name": "Python 3 (ipykernel)",
   "language": "python",
   "name": "python3"
  },
  "language_info": {
   "codemirror_mode": {
    "name": "ipython",
    "version": 3
   },
   "file_extension": ".py",
   "mimetype": "text/x-python",
   "name": "python",
   "nbconvert_exporter": "python",
   "pygments_lexer": "ipython3",
   "version": "3.12.3"
  }
 },
 "nbformat": 4,
 "nbformat_minor": 5
}
